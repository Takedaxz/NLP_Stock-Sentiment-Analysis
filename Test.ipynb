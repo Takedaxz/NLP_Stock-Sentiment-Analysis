{
 "cells": [
  {
   "cell_type": "code",
   "execution_count": 1,
   "id": "e68c148a",
   "metadata": {},
   "outputs": [],
   "source": [
    "import pandas as pd\n",
    "import numpy as np"
   ]
  },
  {
   "cell_type": "code",
   "execution_count": 2,
   "id": "a4975225",
   "metadata": {},
   "outputs": [
    {
     "data": {
      "application/vnd.microsoft.datawrangler.viewer.v0+json": {
       "columns": [
        {
         "name": "index",
         "rawType": "int64",
         "type": "integer"
        },
        {
         "name": "ticker",
         "rawType": "object",
         "type": "string"
        },
        {
         "name": "title",
         "rawType": "object",
         "type": "string"
        },
        {
         "name": "body_text",
         "rawType": "object",
         "type": "string"
        },
        {
         "name": "url",
         "rawType": "object",
         "type": "string"
        },
        {
         "name": "neg",
         "rawType": "float64",
         "type": "float"
        },
        {
         "name": "neu",
         "rawType": "float64",
         "type": "float"
        },
        {
         "name": "pos",
         "rawType": "float64",
         "type": "float"
        },
        {
         "name": "compound",
         "rawType": "float64",
         "type": "float"
        },
        {
         "name": "publish_datetime",
         "rawType": "object",
         "type": "string"
        }
       ],
       "conversionMethod": "pd.DataFrame",
       "ref": "92da4aa6-f187-4d88-915f-73b4247e870e",
       "rows": [
        [
         "0",
         "AMZN",
         "Can Tesla help the U.S. catch up to China in the robot race? By Investing.com",
         "Investing.com -- Tesla (NASDAQ: ) could play a major role in helping the U.S. catch up to China in the race to develop autonomous machines, a contest Morgan Stanley frames as one of geopolitical and national security importance. In a new report, the bank says that China currently holds a significant lead in the field of “embodied AI” — including autonomous vehicles, drones, and humanoid robots — driven largely by superior capabilities in hardware manufacturing. “China makes more drones in a day than the U.S. makes in a year,” Morgan Stanley analysts wrote, noting that AI is radically improving efficiency. With AI, a single operator could control 100 drones, forming a swarm of autonomous systems with potential defense and industrial implications. While the U.S. government is beginning to recognize the urgency, policy gaps remain. Transportation Secretary Sean Duffy recently stressed that “America is in the middle of an innovation race with China and the stakes couldn’t be higher,” calling for unified national standards for autonomous vehicles to replace the current patchwork of state-level regulations. Morgan Stanley sees Tesla as the best-positioned U.S. company to lead this charge. The Wall Street giant highlights Tesla’s competitive edge across six pillars — Data, Robotics, Energy, AI, Manufacturing, and Space — dubbed the company’s “DREAMS.” According to the note, Tesla has “7 million cars on the road today” and is building toward over 100 million by 2035, while also leading in in-house robotics and battery tech. But manufacturing may be Tesla’s most important advantage. Elon Musk considers it the core of the company’s moat, the analysts said. “You need to make the probes, to collect the data to improve the probes to collect more data to improve the probes… you get the idea,” Morgan Stanley analysts led by Adam Jonas said in the report. Tesla’s vehicles serve not just as products, but as platforms to develop and refine AI systems for broader applications. “The car is to Tesla what the book was to Amazon (NASDAQ: ),” Jonas continued. Tesla’s planned launch of unsupervised autonomous vehicles in Austin by the end of June could serve as a major milestone. Unlike California, Texas regulations appear more accommodating for such deployments. As the U.S. seeks to reawaken its “Apollo spirit” and close the innovation gap, the report concludes with a pointed message: “If Tesla doesn’t help narrow the gap, who will?”",
         "https://www.investing.com/news/stock-market-news/can-tesla-help-the-us-catch-up-to-china-in-the-robot-race-4007671",
         "0.004",
         "0.887",
         "0.109",
         "0.9865",
         "2025-05-03 08:27:00"
        ],
        [
         "1",
         "AMZN",
         "Strategy’s Saylor Reveals Asset That Leaves Bitcoin in Dust This Year By U.Today",
         "U.Today - Michael Saylor, a bull and co-founder of BTC-powered behemoth Strategy has addressed the community with a brief report about the performance shown by various assets this year, including Bitcoin. However, there was one asset that did way better than the rest and outperformed the world’s flagship cryptocurrency too. He also urged the community to keep accumulating Bitcoin, even if it is just a few Sats per buy. Saylor names best-performing asset this year — MSTR Strategy’s boss Saylor has shared a diagram with top stock and crypto market assets and the performance they have displayed so far in 2025. The list includes its majesty Bitcoin, Tesla (NASDAQ: ), Strategy, Apple (NASDAQ: ), Meta (NASDAQ: ), Nvidia (NASDAQ: ), gold, Microsoft (NASDAQ: ), Amazon (NASDAQ: ) and a few others. Saylor’s Strategy (MSTR) has outperformed them all so far with 249% growth and a huge gap between it and the rest of the stocks/commodities. The first after MSTR comes Bitcoin with 64% growth. It is followed by Tesla (60%), gold (40%) and Meta (35%). Nvidia has shown a spike of 33%, followed by Apple (19%). S&P 500, Microsoft and Amazon come close to the very end of the list — 12%, 9% and 3% up. Alphabet (NASDAQ: ) Inc Class C (Google’s parent company), GOOG, has so far dropped 2% this year. According to a slightly earlier tweet of Saylor, since Strategy adopted the Bitcoin standard in August 2020, MSTR has seen staggering 3,000% growth. Gold set two new all-time highs last month, reaching $3,500 after the second massive surge. The first April price peak was slightly above the $3,100 level. Saylor issues Bitcoin buy call Earlier on Friday, Michael Saylor issued a tweet, urging the community not to be discouraged by Bitcoin price volatility and to continue accumulating the world’s leading digital currency. “Always ₿e Stacking,” he tweeted, spelling the “B” with four vertical strokes — the B transformed this way symbolizes Bitcoin. To set an example, Strategy has been stacking Bitcoin continuously since August 2020. The most recent BTC purchase made by the company sent ripples through the cryptocurrency market. On Monday, Saylor announced that his company had made a gargantuan acquisition of 15,355 BTC worth $1.42 billion. Besides, according to the Q1, 2025 results published this week, it plans to raise a mind-boggling $42 billion through equities to accumulate even more Bitcoin than it holds now — 553,555 BTC. This article was originally published on U.Today",
         "https://www.investing.com/news/cryptocurrency-news/strategys-saylor-reveals-asset-that-leaves-bitcoin-in-dust-this-year-4020964",
         "0.0",
         "0.911",
         "0.089",
         "0.9806",
         "2025-05-03 03:02:00"
        ],
        [
         "2",
         "AMZN",
         "Apple partnering with startup Anthropic on AI-powered coding platform, Bloomberg News reports By Reuters",
         "(Reuters) -Apple is partnering with Amazon-backed startup Anthropic on a new \"vibe-coding\" software platform that will use artificial intelligence to write, edit, and test code on behalf of programmers, Bloomberg News reported, citing people with knowledge of the matter. \"Vibe coding\" refers to a programming method where AI agents generate code, a concept gaining popularity in the AI landscape. The new AI coding system is an updated version of Apple (NASDAQ: )’s programming software, Xcode, and will integrate Anthropic’s Claude Sonnet AI model, the report said. Anthropic declined to comment, while Apple did not immediately respond to a Reuters requests for comment. Apple plans to deploy the software internally, with the company still undecided on a public launch, the report added. Previously, Apple announced an AI-driven coding tool for Xcode named Swift Assist, intended for a 2024 release. However, it was never made available to developers, with some concerns from Apple’s engineers about potential slowdowns in app development, Bloomberg added. Coding assistants are gaining traction in the rapidly evolving AI landscape, with Bloomberg News reporting last month that GenAI pioneer OpenAI is in discussions to buy artificial intelligence-assisted coding tool Windsurf for about $3 billion. Amid intense competition among major tech firms to dominate the burgeoning generative AI sector, Apple is increasingly partnering with established AI companies and integrating a host of on-device AI features to enhance its offerings. Apple has been equipping its devices with more powerful chips designed to handle AI tasks, such as summoning OpenAI’s ChatGPT to answer user queries, as it seeks to attract customers.",
         "https://www.investing.com/news/stock-market-news/apple-partnering-with-startup-anthropic-on-aipowered-coding-platform-bloomberg-news-reports-4020683",
         "0.013",
         "0.906",
         "0.081",
         "0.945",
         "2025-05-02 15:02:00"
        ],
        [
         "3",
         "AMZN",
         "At least two dead after Peru navy vessel hits Perenco oil platform in Amazon By Reuters",
         "LIMA (Reuters) -A Peruvian navy vessel collided with an oil platform operated by Perenco on the Amazon (NASDAQ: ) River leaving two people dead and one missing Peru’s defense ministry said on Friday. The collision, which the ministry said caused \"severe damages\", occurred near the mouth of the Napo River as the B.A.P. Ucayali was navigating the area during a transit operation. The incident triggered an immediate search and rescue response, the defense ministry said in a statement, noting 30 crew members had been safely evacuated and a search for the missing person was now underway. \"Peru’s Navy deeply regrets the irreparable loss of our crew members,\" the defense ministry said, adding it was investigating the cause of the collision. Perenco was not immediately available for comment.",
         "https://www.investing.com/news/stock-market-news/at-least-two-dead-after-peru-navy-vessel-hits-perenco-oil-platform-in-amazon-4020617",
         "0.15",
         "0.762",
         "0.089",
         "-0.8655",
         "2025-05-02 13:14:00"
        ],
        [
         "4",
         "AMZN",
         "DA Davidson maintains Amazon stock Buy rating, $230 target By Investing.com",
         "On Friday, DA Davidson affirmed its commitment to a positive outlook on Amazon.com (NASDAQ: ) shares, maintaining a Buy rating and a $230.00 price target. The endorsement comes after Amazon’s first-quarter earnings for 2025 surpassed forecasts for both revenue and earnings. The $2.04 trillion market cap company maintains a highly bullish analyst consensus, according to InvestingPro data. Despite the strong performance, the focus was drawn to a slowdown in the growth of Amazon Web Services (AWS), as reported by the company. The technology giant’s earnings report indicated that AWS, a key driver of Amazon’s profitability, experienced a deceleration in growth compared to the previous quarter. With overall revenue growth at 11% and EBITDA reaching $120.47 billion, this shift was attributed to several factors, including the unpredictability of enterprise sales cycles and the occasional capacity constraints in AI-related services, as noted by Amazon’s management. The maintained Buy rating suggests that DA Davidson sees continued value in Amazon’s stock, despite the challenges faced by AWS. The $230.00 price target remains unchanged, signaling confidence in the company’s long-term prospects. Amazon’s broader financial health, as evidenced by the Q1 results, appears to remain robust, with the company beating expectations on critical financial metrics. The strong overall performance, however, was not enough to completely overshadow the concerns regarding AWS’s growth trajectory. Investors and market watchers are likely to keep a close eye on Amazon’s strategies to address the growth deceleration in AWS. The company’s future performance will be closely monitored, especially in the areas of enterprise sales and AI service capacity, which are pivotal for AWS’s continued expansion. InvestingPro analysis shows Amazon maintains a \"GOOD\" overall financial health score, with additional insights available in the comprehensive Pro Research Report, which offers deep-dive analysis of 1,400+ top US stocks. In other recent news, Amazon has reported solid financial results across its divisions, with a notable performance from Amazon Web Services (AWS). Benchmark analysts highlighted that Amazon’s latest earnings report met revenue expectations and exceeded operating income projections by nearly $1 billion, thanks to AWS’s strong performance. Meanwhile, JPMorgan noted that Amazon’s first-quarter revenue and operating income surpassed upper guidance limits, and AWS margins reached a new peak. Cantor Fitzgerald also reported that Amazon’s first-quarter earnings showed revenues aligning with expectations, and AWS experienced a 17% growth, although slightly below some buy-side expectations. In terms of stock evaluations, UBS adjusted Amazon’s stock price target to $249, maintaining a Buy rating, while noting the easing of capacity constraints and potential growth in AWS. Benchmark also maintained a Buy rating with a $260 target, emphasizing Amazon’s market share gains and operational efficiencies. Susquehanna, despite lowering the price target to $225, maintained a positive outlook on Amazon’s long-term growth potential, driven by its e-commerce, cloud/AI, and advertising businesses. Cantor Fitzgerald raised the price target to $240, citing Amazon’s competitive positioning during macroeconomic disruptions. These developments reflect varied analyst perspectives on Amazon’s potential amidst macroeconomic challenges and tariff impacts. This article was generated with the support of AI and reviewed by an editor. For more information see our T&C.",
         "https://www.investing.com/news/analyst-ratings/da-davidson-maintains-amazon-stock-buy-rating-230-target-93CH-4020598",
         "0.033",
         "0.818",
         "0.148",
         "0.9942",
         "2025-05-02 12:51:00"
        ]
       ],
       "shape": {
        "columns": 9,
        "rows": 5
       }
      },
      "text/html": [
       "<div>\n",
       "<style scoped>\n",
       "    .dataframe tbody tr th:only-of-type {\n",
       "        vertical-align: middle;\n",
       "    }\n",
       "\n",
       "    .dataframe tbody tr th {\n",
       "        vertical-align: top;\n",
       "    }\n",
       "\n",
       "    .dataframe thead th {\n",
       "        text-align: right;\n",
       "    }\n",
       "</style>\n",
       "<table border=\"1\" class=\"dataframe\">\n",
       "  <thead>\n",
       "    <tr style=\"text-align: right;\">\n",
       "      <th></th>\n",
       "      <th>ticker</th>\n",
       "      <th>title</th>\n",
       "      <th>body_text</th>\n",
       "      <th>url</th>\n",
       "      <th>neg</th>\n",
       "      <th>neu</th>\n",
       "      <th>pos</th>\n",
       "      <th>compound</th>\n",
       "      <th>publish_datetime</th>\n",
       "    </tr>\n",
       "  </thead>\n",
       "  <tbody>\n",
       "    <tr>\n",
       "      <th>0</th>\n",
       "      <td>AMZN</td>\n",
       "      <td>Can Tesla help the U.S. catch up to China in t...</td>\n",
       "      <td>Investing.com -- Tesla (NASDAQ: ) could play a...</td>\n",
       "      <td>https://www.investing.com/news/stock-market-ne...</td>\n",
       "      <td>0.004</td>\n",
       "      <td>0.887</td>\n",
       "      <td>0.109</td>\n",
       "      <td>0.9865</td>\n",
       "      <td>2025-05-03 08:27:00</td>\n",
       "    </tr>\n",
       "    <tr>\n",
       "      <th>1</th>\n",
       "      <td>AMZN</td>\n",
       "      <td>Strategy’s Saylor Reveals Asset That Leaves Bi...</td>\n",
       "      <td>U.Today - Michael Saylor, a bull and co-founde...</td>\n",
       "      <td>https://www.investing.com/news/cryptocurrency-...</td>\n",
       "      <td>0.000</td>\n",
       "      <td>0.911</td>\n",
       "      <td>0.089</td>\n",
       "      <td>0.9806</td>\n",
       "      <td>2025-05-03 03:02:00</td>\n",
       "    </tr>\n",
       "    <tr>\n",
       "      <th>2</th>\n",
       "      <td>AMZN</td>\n",
       "      <td>Apple partnering with startup Anthropic on AI-...</td>\n",
       "      <td>(Reuters) -Apple is partnering with Amazon-bac...</td>\n",
       "      <td>https://www.investing.com/news/stock-market-ne...</td>\n",
       "      <td>0.013</td>\n",
       "      <td>0.906</td>\n",
       "      <td>0.081</td>\n",
       "      <td>0.9450</td>\n",
       "      <td>2025-05-02 15:02:00</td>\n",
       "    </tr>\n",
       "    <tr>\n",
       "      <th>3</th>\n",
       "      <td>AMZN</td>\n",
       "      <td>At least two dead after Peru navy vessel hits ...</td>\n",
       "      <td>LIMA (Reuters) -A Peruvian navy vessel collide...</td>\n",
       "      <td>https://www.investing.com/news/stock-market-ne...</td>\n",
       "      <td>0.150</td>\n",
       "      <td>0.762</td>\n",
       "      <td>0.089</td>\n",
       "      <td>-0.8655</td>\n",
       "      <td>2025-05-02 13:14:00</td>\n",
       "    </tr>\n",
       "    <tr>\n",
       "      <th>4</th>\n",
       "      <td>AMZN</td>\n",
       "      <td>DA Davidson maintains Amazon stock Buy rating,...</td>\n",
       "      <td>On Friday, DA Davidson affirmed its commitment...</td>\n",
       "      <td>https://www.investing.com/news/analyst-ratings...</td>\n",
       "      <td>0.033</td>\n",
       "      <td>0.818</td>\n",
       "      <td>0.148</td>\n",
       "      <td>0.9942</td>\n",
       "      <td>2025-05-02 12:51:00</td>\n",
       "    </tr>\n",
       "  </tbody>\n",
       "</table>\n",
       "</div>"
      ],
      "text/plain": [
       "  ticker                                              title  \\\n",
       "0   AMZN  Can Tesla help the U.S. catch up to China in t...   \n",
       "1   AMZN  Strategy’s Saylor Reveals Asset That Leaves Bi...   \n",
       "2   AMZN  Apple partnering with startup Anthropic on AI-...   \n",
       "3   AMZN  At least two dead after Peru navy vessel hits ...   \n",
       "4   AMZN  DA Davidson maintains Amazon stock Buy rating,...   \n",
       "\n",
       "                                           body_text  \\\n",
       "0  Investing.com -- Tesla (NASDAQ: ) could play a...   \n",
       "1  U.Today - Michael Saylor, a bull and co-founde...   \n",
       "2  (Reuters) -Apple is partnering with Amazon-bac...   \n",
       "3  LIMA (Reuters) -A Peruvian navy vessel collide...   \n",
       "4  On Friday, DA Davidson affirmed its commitment...   \n",
       "\n",
       "                                                 url    neg    neu    pos  \\\n",
       "0  https://www.investing.com/news/stock-market-ne...  0.004  0.887  0.109   \n",
       "1  https://www.investing.com/news/cryptocurrency-...  0.000  0.911  0.089   \n",
       "2  https://www.investing.com/news/stock-market-ne...  0.013  0.906  0.081   \n",
       "3  https://www.investing.com/news/stock-market-ne...  0.150  0.762  0.089   \n",
       "4  https://www.investing.com/news/analyst-ratings...  0.033  0.818  0.148   \n",
       "\n",
       "   compound     publish_datetime  \n",
       "0    0.9865  2025-05-03 08:27:00  \n",
       "1    0.9806  2025-05-03 03:02:00  \n",
       "2    0.9450  2025-05-02 15:02:00  \n",
       "3   -0.8655  2025-05-02 13:14:00  \n",
       "4    0.9942  2025-05-02 12:51:00  "
      ]
     },
     "execution_count": 2,
     "metadata": {},
     "output_type": "execute_result"
    }
   ],
   "source": [
    "df= pd.read_csv('data/AMZN_article_sentiments.csv')\n",
    "df.head"
   ]
  },
  {
   "cell_type": "code",
   "execution_count": 7,
   "id": "82334548",
   "metadata": {},
   "outputs": [],
   "source": [
    "# Convert publish_datetime to datetime format and sort\n",
    "df['publish_datetime'] = pd.to_datetime(df['publish_datetime'])\n",
    "df.sort_values(by='publish_datetime', ascending=True, inplace=True)"
   ]
  },
  {
   "cell_type": "code",
   "execution_count": 9,
   "id": "8d3569ad",
   "metadata": {},
   "outputs": [
    {
     "data": {
      "application/vnd.microsoft.datawrangler.viewer.v0+json": {
       "columns": [
        {
         "name": "index",
         "rawType": "int64",
         "type": "integer"
        },
        {
         "name": "ticker",
         "rawType": "object",
         "type": "string"
        },
        {
         "name": "title",
         "rawType": "object",
         "type": "string"
        },
        {
         "name": "body_text",
         "rawType": "object",
         "type": "string"
        },
        {
         "name": "url",
         "rawType": "object",
         "type": "string"
        },
        {
         "name": "neg",
         "rawType": "float64",
         "type": "float"
        },
        {
         "name": "neu",
         "rawType": "float64",
         "type": "float"
        },
        {
         "name": "pos",
         "rawType": "float64",
         "type": "float"
        },
        {
         "name": "compound",
         "rawType": "float64",
         "type": "float"
        },
        {
         "name": "publish_datetime",
         "rawType": "datetime64[ns]",
         "type": "datetime"
        }
       ],
       "conversionMethod": "pd.DataFrame",
       "ref": "1886f9d4-1f68-4727-8a19-07a3cc11a16e",
       "rows": [
        [
         "9995",
         "AMZN",
         "The Duckhorn Portfolio, Inc. PT Lowered to $11 at RBC Capital By Reuters",
         "Risk Disclosure: Trading in financial instruments and/or cryptocurrencies involves high risks including the risk of losing some, or all, of your investment amount, and may not be suitable for all investors. Prices of cryptocurrencies are extremely volatile and may be affected by external factors such as financial, regulatory or political events. Trading on margin increases the financial risks. Before deciding to trade in financial instrument or cryptocurrencies you should be fully informed of the risks and costs associated with trading the financial markets, carefully consider your investment objectives, level of experience, and risk appetite, and seek professional advice where needed. Fusion Media would like to remind you that the data contained in this website is not necessarily real-time nor accurate. The data and prices on the website are not necessarily provided by any market or exchange, but may be provided by market makers, and so prices may not be accurate and may differ from the actual price at any given market, meaning prices are indicative and not appropriate for trading purposes. Fusion Media and any provider of the data contained in this website will not accept liability for any loss or damage as a result of your trading, or your reliance on the information contained within this website. It is prohibited to use, store, reproduce, display, modify, transmit or distribute the data contained in this website without the explicit prior written permission of Fusion Media and/or the data provider. All intellectual property rights are reserved by the providers and/or the exchange providing the data contained in this website. Fusion Media may be compensated by the advertisers that appear on the website, based on your interaction with the advertisements or advertisers.",
         "https://www.investing.com/news/technology-news/the-duckhorn-portfolio-inc-pt-lowered-to-11-at-rbc-capital-1281517",
         "0.076",
         "0.893",
         "0.032",
         "-0.8437",
         "2018-02-20 13:57:00"
        ],
        [
         "9994",
         "AMZN",
         "Fastenal PT Lowered to $67 at Baird By Reuters",
         "Risk Disclosure: Trading in financial instruments and/or cryptocurrencies involves high risks including the risk of losing some, or all, of your investment amount, and may not be suitable for all investors. Prices of cryptocurrencies are extremely volatile and may be affected by external factors such as financial, regulatory or political events. Trading on margin increases the financial risks. Before deciding to trade in financial instrument or cryptocurrencies you should be fully informed of the risks and costs associated with trading the financial markets, carefully consider your investment objectives, level of experience, and risk appetite, and seek professional advice where needed. Fusion Media would like to remind you that the data contained in this website is not necessarily real-time nor accurate. The data and prices on the website are not necessarily provided by any market or exchange, but may be provided by market makers, and so prices may not be accurate and may differ from the actual price at any given market, meaning prices are indicative and not appropriate for trading purposes. Fusion Media and any provider of the data contained in this website will not accept liability for any loss or damage as a result of your trading, or your reliance on the information contained within this website. It is prohibited to use, store, reproduce, display, modify, transmit or distribute the data contained in this website without the explicit prior written permission of Fusion Media and/or the data provider. All intellectual property rights are reserved by the providers and/or the exchange providing the data contained in this website. Fusion Media may be compensated by the advertisers that appear on the website, based on your interaction with the advertisements or advertisers.",
         "https://www.investing.com/news/technology-news/fastenal-pt-lowered-to-67-at-baird-1376526",
         "0.076",
         "0.893",
         "0.032",
         "-0.8437",
         "2018-04-03 16:28:00"
        ],
        [
         "9993",
         "AMZN",
         "Facebook fuels S&P 500 to record high close By Reuters",
         "By Noel Randewich and Shivani Kumaresan (Reuters) - The closed at a record high on Thursday, fueled by gains in Facebook following its strong earnings report, while Amazon (NASDAQ: ) jumped in extended trade following its quarterly report. Facebook Inc (NASDAQ: ) rallied 7.3% to an all-time high after the world's largest social network beat quarterly revenue and profit late on Wednesday. It was its biggest single-day gain in five months and easily contributed the most upside to both the S&P 500 and Nasdaq. The communication services index led the 11 sectors higher with a 2.75% gain, boosted by Facebook and Alphabet (NASDAQ: ). Apple Inc (NASDAQ: ) dipped 0.07% despite late on Wednesday posting sales and profit ahead of Wall Street estimates on strong iPhone and Mac sales. \"Investors are really looking for significantly outsized results, and also outsized guidance as they look ahead to upcoming quarters,\" said Greg Bassuk, chief executive of AXS Investments. \"We believe a lot of optimism has already been baked into the market, and we are cautioning investors to expect significant volatility.\" In extended trade, Amazon jumped 3% after reporting quarterly sales that beat analysts' expectations as the e-commerce giant continued to benefit from the COVID-19 pandemic-driven online shopping boom. Also after the bell, Twitter tumbled 9% following its quarterly report, with the company warning about rising costs and slower growth. Of the 265 companies in the S&P 500 that have reported so far, 87% have topped analysts' earnings estimates, with Refinitiv IBES data now predicting a 45% jump in profit growth. U.S. economic growth accelerated in the first quarter, fueled by massive government aid to households and businesses, while a labor market report showed 553,000 people filed for unemployment benefits last week, compared with 566,000 in the prior period. Caterpillar Inc (NYSE: ) dipped about 2% after it reported higher quarterly earnings but warned of supply-chain bottlenecks. Drugmaker Merck & Co Inc slid 4.4% after posting a drop in quarterly profit. McDonald's (NYSE: ) rose 1.2% after the burger chain beat Wall Street estimates for quarterly comparable sales and said it returned to pre-pandemic levels of growth. The rose 0.71% to end at 34,060.36 points, while the S&P 500 gained 0.68% to 4,211.47. The climbed 0.22% to 14,082.55. Volume on U.S. exchanges was 10.5 billion shares, compared with the 9.9 billion full-session average over the last 20 trading days. Advancing issues outnumbered declining ones on the NYSE by a 1.08-to-1 ratio; on Nasdaq, a 1.19-to-1 ratio favored decliners. The S&P 500 posted 120 new 52-week highs and no new lows; the Nasdaq Composite recorded 150 new highs and 30 new lows. The S&P 500 is now up 12% in 2021, while the Nasdaq has gained 9%.",
         "https://www.investing.com/news/stock-market-news/apple-facebook-drive-nasdaq-futures-higher-as-earnings-roll-in-2489638",
         "0.034",
         "0.849",
         "0.117",
         "0.9844",
         "2021-04-29 07:18:00"
        ],
        [
         "9992",
         "AMZN",
         "S&P 500 Closes at Record on Facebook-Led Surge By Investing.com",
         "By Yasin Ebrahim Investing.com – The S&P 500 closed at record highs Thursday as tech steadied from its intraday malaise and a Facebook-led rally in communication services supported investor sentiment. The climbed 0.7% to end the day at a closing record high of 4,211.60, and the was up 0.2%, after rising to an intraday record high of 14,211.57. The rose 0.7%, or 242 points. U.S. first-quarter GDP rose 6.4%, better than expectations for a 6.1% rise, and growth is expected to pick up in the quarters ahead. \"The strength in activity late in the first quarter means the second quarter starts from strong foundations, and we think double-digit growth is a good bet as Covid fades and the economy fully opens,\" Pantheon Macroeconomics said. \"Q3 should also see very rapid growth.\" U.S. bond rates gave up some their intraday gains helping big tech recoup some losses. Facebook (NASDAQ: ) was up 7% after reporting blowout quarterly earnings of $3.30 per share that markedly beat estimates for $2.33 a share. Apple (NASDAQ: ) also delivered better-than-expected results, led by strong services and iPhone sales growth. The shares ended flat after cutting intraday losses amid a slew of positive upgrades from Wall Street. \"Apple absolutely crushed rising Street expectations heading into the print across the board, with iPhone revenues beating by 17%+ in a jaw dropping performance,\" Wedbush said in a note as it lifted its price target on the stock to $185 from $175. Google-parent Alphabet (NASDAQ: ) was higher, while Microsoft (NASDAQ: ) traded in the red. Amazon.com (NASDAQ: ), which is set to report results after the market closes, ended the day higher. Amazon is expected to report strong results, driven by e-commerce growth and increasing demand for its cloud services amid an ongoing digital transformation trend. Financials were pushed higher by a rise in banks and insurance companies. Cincinnati Financial Corporation (NASDAQ: ) led the group after the regional bank reported its first-quarter results late-Wednesday and topped analysts' estimates. Energy stocks continued to ride oil prices higher after major oil produces kept plans to gradual ease production cuts in place earlier this week. In other news, LYFT (NASDAQ: ) and Uber Technologies Inc (NYSE: ) fell sharply after Labor Secretary Marty Walsh reportedly said most gig workers in the U.S. should be classified as employees. On the political front, President Joe Biden unveiled Wednesday the second installment of the infrastructure plan that would focus on improving health care and education. \"Unlike the American Jobs Plan, which would be funded by a corporate tax hike, the American Families Plan would be paid for by raising taxes on individuals, most notably a near doubling of the capital gains tax rate on the wealthiest of Americans,\" Stifel said.",
         "https://www.investing.com/news/stock-market-news/sp-500-closes-at-record-on-facebookled-surge-2490439",
         "0.034",
         "0.834",
         "0.132",
         "0.9921",
         "2021-04-29 16:03:00"
        ],
        [
         "9991",
         "AMZN",
         "Amazon expects spring windfall as U.S. economy reopens, posts record profits By Reuters",
         "By Jeffrey Dastin and Akanksha Rana (Reuters) -Amazon.com Inc posted record profits from pandemic shopping and indicated sales would keep growing even as customers emerged from their homes in the reopening U.S. economy. Since the start of the coronavirus outbreak, shoppers have relied increasingly on Amazon (NASDAQ: ) for delivery of home staples and supplies. While brick-and-mortar stores closed, Amazon has now posted four consecutive record quarterly profits, attracted more than 200 million Prime loyalty subscribers, and recruited over 500,000 employees to keep up with surging demand. Amazon said it expects operating income for the current quarter to be between $4.5 billion and $8 billion, which assumes about $1.5 billion of costs related to COVID-19. Shares rose 4% in after-hours trade. Throughout the pandemic, the world's largest online retailer has been at the center of safety and workplace issues, with a failed attempt by organized labor to unionize an Amazon warehouse in Alabama and litigation in New York over whether it put profit ahead of employee safety. Net sales climbed to $108.5 billion in the first quarter ended March 31 from $75.5 billion, beating analysts' average estimate of $104.5 billion, according to IBES data from Refinitiv. Bezos touted the results of the company's cloud computing unit Amazon Web Services (AWS) in a press release, saying, \"In just 15 years, AWS has become a $54 billion annual sales run rate business competing against the world’s largest technology companies, and its growth is accelerating.\" AWS's long-time chief Andy Jassy is scheduled to succeed Bezos as Amazon's CEO this summer. His unit continues to be a bright spot. Just last week, for instance, Dish Network (NASDAQ: ) Corp announced a deal to build its 5G network on AWS. The division increased revenue 32% to $13.5 billion, ahead of estimates of $13.2 billion. Brian Olsavsky, Amazon's chief financial officer, said many businesses want to outsource their technology infrastructure to AWS. \"We expect this trend to continue as we move into the post-pandemic recovery,\" he said. Adding to Amazon's revenue was its growing chain of physical stores, including Whole Foods Market and its first overseas cashier-less convenience shop, opening last month in the London Borough of Ealing. Amazon delved further into healthcare as well with an online doctors-visit service for employers, representing another area it is aiming to disrupt after retail, enterprise technology and Hollywood. Profit more than tripled to $8.1 billion. AD SALES GROWTH Amazon, which saw its stock price nearly double in the first part of 2020 as it benefited from the pandemic, has this year underperformed the market index. Its shares were up about 8.5% year to date versus the index's 13% gain. At the same time, spending on COVID-19 and logistics has chipped away at Amazon's bottom line. The company has poured money into buying cargo planes and securing new warehouses, aiming to place items closer to customers to speed up delivery. It said Wednesday it planned to hike pay for over half a million employees, costing more than $1 billion - and it is still hiring for tens of thousands more positions. Olsavsky told reporters the company intends to increase spending on video content this year as well. Consumers have been watching content for more hours on Amazon, he said. While far behind ad sales leaders Facebook Inc (NASDAQ: ) and Alphabet (NASDAQ: ) Inc's Google, Amazon is growing its ad business because brands' placements often result directly in sales, reaching customers who are on Amazon with an intention to shop. Jesse Cohen, senior analyst at Investing.com, said, \"Outside of its core retail and cloud units, advertising revenue is increasingly becoming another substantial growth driver for Amazon.\" Amazon said ad and other sales rose 77% to $6.9 billion, ahead of analysts' estimate of $6.2 billion. The company also announced its intention to host its marketing blitz Prime Day in the current quarter. Olsavsky said the reason for this was to attract more customers' attention and be better for business partners than the company's more typical July scheduling.",
         "https://www.investing.com/news/economy/amazon-firstquarter-sales-beat-expectations-shares-rise-2490465",
         "0.017",
         "0.855",
         "0.128",
         "0.9963",
         "2021-04-29 16:11:00"
        ]
       ],
       "shape": {
        "columns": 9,
        "rows": 5
       }
      },
      "text/html": [
       "<div>\n",
       "<style scoped>\n",
       "    .dataframe tbody tr th:only-of-type {\n",
       "        vertical-align: middle;\n",
       "    }\n",
       "\n",
       "    .dataframe tbody tr th {\n",
       "        vertical-align: top;\n",
       "    }\n",
       "\n",
       "    .dataframe thead th {\n",
       "        text-align: right;\n",
       "    }\n",
       "</style>\n",
       "<table border=\"1\" class=\"dataframe\">\n",
       "  <thead>\n",
       "    <tr style=\"text-align: right;\">\n",
       "      <th></th>\n",
       "      <th>ticker</th>\n",
       "      <th>title</th>\n",
       "      <th>body_text</th>\n",
       "      <th>url</th>\n",
       "      <th>neg</th>\n",
       "      <th>neu</th>\n",
       "      <th>pos</th>\n",
       "      <th>compound</th>\n",
       "      <th>publish_datetime</th>\n",
       "    </tr>\n",
       "  </thead>\n",
       "  <tbody>\n",
       "    <tr>\n",
       "      <th>9995</th>\n",
       "      <td>AMZN</td>\n",
       "      <td>The Duckhorn Portfolio, Inc. PT Lowered to $11...</td>\n",
       "      <td>Risk Disclosure: Trading in financial instrume...</td>\n",
       "      <td>https://www.investing.com/news/technology-news...</td>\n",
       "      <td>0.076</td>\n",
       "      <td>0.893</td>\n",
       "      <td>0.032</td>\n",
       "      <td>-0.8437</td>\n",
       "      <td>2018-02-20 13:57:00</td>\n",
       "    </tr>\n",
       "    <tr>\n",
       "      <th>9994</th>\n",
       "      <td>AMZN</td>\n",
       "      <td>Fastenal PT Lowered to $67 at Baird By Reuters</td>\n",
       "      <td>Risk Disclosure: Trading in financial instrume...</td>\n",
       "      <td>https://www.investing.com/news/technology-news...</td>\n",
       "      <td>0.076</td>\n",
       "      <td>0.893</td>\n",
       "      <td>0.032</td>\n",
       "      <td>-0.8437</td>\n",
       "      <td>2018-04-03 16:28:00</td>\n",
       "    </tr>\n",
       "    <tr>\n",
       "      <th>9993</th>\n",
       "      <td>AMZN</td>\n",
       "      <td>Facebook fuels S&amp;P 500 to record high close By...</td>\n",
       "      <td>By Noel Randewich and Shivani Kumaresan (Reute...</td>\n",
       "      <td>https://www.investing.com/news/stock-market-ne...</td>\n",
       "      <td>0.034</td>\n",
       "      <td>0.849</td>\n",
       "      <td>0.117</td>\n",
       "      <td>0.9844</td>\n",
       "      <td>2021-04-29 07:18:00</td>\n",
       "    </tr>\n",
       "    <tr>\n",
       "      <th>9992</th>\n",
       "      <td>AMZN</td>\n",
       "      <td>S&amp;P 500 Closes at Record on Facebook-Led Surge...</td>\n",
       "      <td>By Yasin Ebrahim Investing.com – The S&amp;P 500 c...</td>\n",
       "      <td>https://www.investing.com/news/stock-market-ne...</td>\n",
       "      <td>0.034</td>\n",
       "      <td>0.834</td>\n",
       "      <td>0.132</td>\n",
       "      <td>0.9921</td>\n",
       "      <td>2021-04-29 16:03:00</td>\n",
       "    </tr>\n",
       "    <tr>\n",
       "      <th>9991</th>\n",
       "      <td>AMZN</td>\n",
       "      <td>Amazon expects spring windfall as U.S. economy...</td>\n",
       "      <td>By Jeffrey Dastin and Akanksha Rana (Reuters) ...</td>\n",
       "      <td>https://www.investing.com/news/economy/amazon-...</td>\n",
       "      <td>0.017</td>\n",
       "      <td>0.855</td>\n",
       "      <td>0.128</td>\n",
       "      <td>0.9963</td>\n",
       "      <td>2021-04-29 16:11:00</td>\n",
       "    </tr>\n",
       "  </tbody>\n",
       "</table>\n",
       "</div>"
      ],
      "text/plain": [
       "     ticker                                              title  \\\n",
       "9995   AMZN  The Duckhorn Portfolio, Inc. PT Lowered to $11...   \n",
       "9994   AMZN     Fastenal PT Lowered to $67 at Baird By Reuters   \n",
       "9993   AMZN  Facebook fuels S&P 500 to record high close By...   \n",
       "9992   AMZN  S&P 500 Closes at Record on Facebook-Led Surge...   \n",
       "9991   AMZN  Amazon expects spring windfall as U.S. economy...   \n",
       "\n",
       "                                              body_text  \\\n",
       "9995  Risk Disclosure: Trading in financial instrume...   \n",
       "9994  Risk Disclosure: Trading in financial instrume...   \n",
       "9993  By Noel Randewich and Shivani Kumaresan (Reute...   \n",
       "9992  By Yasin Ebrahim Investing.com – The S&P 500 c...   \n",
       "9991  By Jeffrey Dastin and Akanksha Rana (Reuters) ...   \n",
       "\n",
       "                                                    url    neg    neu    pos  \\\n",
       "9995  https://www.investing.com/news/technology-news...  0.076  0.893  0.032   \n",
       "9994  https://www.investing.com/news/technology-news...  0.076  0.893  0.032   \n",
       "9993  https://www.investing.com/news/stock-market-ne...  0.034  0.849  0.117   \n",
       "9992  https://www.investing.com/news/stock-market-ne...  0.034  0.834  0.132   \n",
       "9991  https://www.investing.com/news/economy/amazon-...  0.017  0.855  0.128   \n",
       "\n",
       "      compound    publish_datetime  \n",
       "9995   -0.8437 2018-02-20 13:57:00  \n",
       "9994   -0.8437 2018-04-03 16:28:00  \n",
       "9993    0.9844 2021-04-29 07:18:00  \n",
       "9992    0.9921 2021-04-29 16:03:00  \n",
       "9991    0.9963 2021-04-29 16:11:00  "
      ]
     },
     "execution_count": 9,
     "metadata": {},
     "output_type": "execute_result"
    }
   ],
   "source": [
    "df.head()"
   ]
  },
  {
   "cell_type": "code",
   "execution_count": 10,
   "id": "593f233d",
   "metadata": {},
   "outputs": [
    {
     "data": {
      "application/vnd.microsoft.datawrangler.viewer.v0+json": {
       "columns": [
        {
         "name": "index",
         "rawType": "int64",
         "type": "integer"
        },
        {
         "name": "ticker",
         "rawType": "object",
         "type": "string"
        },
        {
         "name": "title",
         "rawType": "object",
         "type": "string"
        },
        {
         "name": "body_text",
         "rawType": "object",
         "type": "string"
        },
        {
         "name": "url",
         "rawType": "object",
         "type": "string"
        },
        {
         "name": "neg",
         "rawType": "float64",
         "type": "float"
        },
        {
         "name": "neu",
         "rawType": "float64",
         "type": "float"
        },
        {
         "name": "pos",
         "rawType": "float64",
         "type": "float"
        },
        {
         "name": "compound",
         "rawType": "float64",
         "type": "float"
        },
        {
         "name": "publish_datetime",
         "rawType": "datetime64[ns]",
         "type": "datetime"
        }
       ],
       "conversionMethod": "pd.DataFrame",
       "ref": "db3109b5-7234-4821-bf3d-2d7401fab9d9",
       "rows": [
        [
         "4",
         "AMZN",
         "DA Davidson maintains Amazon stock Buy rating, $230 target By Investing.com",
         "On Friday, DA Davidson affirmed its commitment to a positive outlook on Amazon.com (NASDAQ: ) shares, maintaining a Buy rating and a $230.00 price target. The endorsement comes after Amazon’s first-quarter earnings for 2025 surpassed forecasts for both revenue and earnings. The $2.04 trillion market cap company maintains a highly bullish analyst consensus, according to InvestingPro data. Despite the strong performance, the focus was drawn to a slowdown in the growth of Amazon Web Services (AWS), as reported by the company. The technology giant’s earnings report indicated that AWS, a key driver of Amazon’s profitability, experienced a deceleration in growth compared to the previous quarter. With overall revenue growth at 11% and EBITDA reaching $120.47 billion, this shift was attributed to several factors, including the unpredictability of enterprise sales cycles and the occasional capacity constraints in AI-related services, as noted by Amazon’s management. The maintained Buy rating suggests that DA Davidson sees continued value in Amazon’s stock, despite the challenges faced by AWS. The $230.00 price target remains unchanged, signaling confidence in the company’s long-term prospects. Amazon’s broader financial health, as evidenced by the Q1 results, appears to remain robust, with the company beating expectations on critical financial metrics. The strong overall performance, however, was not enough to completely overshadow the concerns regarding AWS’s growth trajectory. Investors and market watchers are likely to keep a close eye on Amazon’s strategies to address the growth deceleration in AWS. The company’s future performance will be closely monitored, especially in the areas of enterprise sales and AI service capacity, which are pivotal for AWS’s continued expansion. InvestingPro analysis shows Amazon maintains a \"GOOD\" overall financial health score, with additional insights available in the comprehensive Pro Research Report, which offers deep-dive analysis of 1,400+ top US stocks. In other recent news, Amazon has reported solid financial results across its divisions, with a notable performance from Amazon Web Services (AWS). Benchmark analysts highlighted that Amazon’s latest earnings report met revenue expectations and exceeded operating income projections by nearly $1 billion, thanks to AWS’s strong performance. Meanwhile, JPMorgan noted that Amazon’s first-quarter revenue and operating income surpassed upper guidance limits, and AWS margins reached a new peak. Cantor Fitzgerald also reported that Amazon’s first-quarter earnings showed revenues aligning with expectations, and AWS experienced a 17% growth, although slightly below some buy-side expectations. In terms of stock evaluations, UBS adjusted Amazon’s stock price target to $249, maintaining a Buy rating, while noting the easing of capacity constraints and potential growth in AWS. Benchmark also maintained a Buy rating with a $260 target, emphasizing Amazon’s market share gains and operational efficiencies. Susquehanna, despite lowering the price target to $225, maintained a positive outlook on Amazon’s long-term growth potential, driven by its e-commerce, cloud/AI, and advertising businesses. Cantor Fitzgerald raised the price target to $240, citing Amazon’s competitive positioning during macroeconomic disruptions. These developments reflect varied analyst perspectives on Amazon’s potential amidst macroeconomic challenges and tariff impacts. This article was generated with the support of AI and reviewed by an editor. For more information see our T&C.",
         "https://www.investing.com/news/analyst-ratings/da-davidson-maintains-amazon-stock-buy-rating-230-target-93CH-4020598",
         "0.033",
         "0.818",
         "0.148",
         "0.9942",
         "2025-05-02 12:51:00"
        ],
        [
         "3",
         "AMZN",
         "At least two dead after Peru navy vessel hits Perenco oil platform in Amazon By Reuters",
         "LIMA (Reuters) -A Peruvian navy vessel collided with an oil platform operated by Perenco on the Amazon (NASDAQ: ) River leaving two people dead and one missing Peru’s defense ministry said on Friday. The collision, which the ministry said caused \"severe damages\", occurred near the mouth of the Napo River as the B.A.P. Ucayali was navigating the area during a transit operation. The incident triggered an immediate search and rescue response, the defense ministry said in a statement, noting 30 crew members had been safely evacuated and a search for the missing person was now underway. \"Peru’s Navy deeply regrets the irreparable loss of our crew members,\" the defense ministry said, adding it was investigating the cause of the collision. Perenco was not immediately available for comment.",
         "https://www.investing.com/news/stock-market-news/at-least-two-dead-after-peru-navy-vessel-hits-perenco-oil-platform-in-amazon-4020617",
         "0.15",
         "0.762",
         "0.089",
         "-0.8655",
         "2025-05-02 13:14:00"
        ],
        [
         "2",
         "AMZN",
         "Apple partnering with startup Anthropic on AI-powered coding platform, Bloomberg News reports By Reuters",
         "(Reuters) -Apple is partnering with Amazon-backed startup Anthropic on a new \"vibe-coding\" software platform that will use artificial intelligence to write, edit, and test code on behalf of programmers, Bloomberg News reported, citing people with knowledge of the matter. \"Vibe coding\" refers to a programming method where AI agents generate code, a concept gaining popularity in the AI landscape. The new AI coding system is an updated version of Apple (NASDAQ: )’s programming software, Xcode, and will integrate Anthropic’s Claude Sonnet AI model, the report said. Anthropic declined to comment, while Apple did not immediately respond to a Reuters requests for comment. Apple plans to deploy the software internally, with the company still undecided on a public launch, the report added. Previously, Apple announced an AI-driven coding tool for Xcode named Swift Assist, intended for a 2024 release. However, it was never made available to developers, with some concerns from Apple’s engineers about potential slowdowns in app development, Bloomberg added. Coding assistants are gaining traction in the rapidly evolving AI landscape, with Bloomberg News reporting last month that GenAI pioneer OpenAI is in discussions to buy artificial intelligence-assisted coding tool Windsurf for about $3 billion. Amid intense competition among major tech firms to dominate the burgeoning generative AI sector, Apple is increasingly partnering with established AI companies and integrating a host of on-device AI features to enhance its offerings. Apple has been equipping its devices with more powerful chips designed to handle AI tasks, such as summoning OpenAI’s ChatGPT to answer user queries, as it seeks to attract customers.",
         "https://www.investing.com/news/stock-market-news/apple-partnering-with-startup-anthropic-on-aipowered-coding-platform-bloomberg-news-reports-4020683",
         "0.013",
         "0.906",
         "0.081",
         "0.945",
         "2025-05-02 15:02:00"
        ],
        [
         "1",
         "AMZN",
         "Strategy’s Saylor Reveals Asset That Leaves Bitcoin in Dust This Year By U.Today",
         "U.Today - Michael Saylor, a bull and co-founder of BTC-powered behemoth Strategy has addressed the community with a brief report about the performance shown by various assets this year, including Bitcoin. However, there was one asset that did way better than the rest and outperformed the world’s flagship cryptocurrency too. He also urged the community to keep accumulating Bitcoin, even if it is just a few Sats per buy. Saylor names best-performing asset this year — MSTR Strategy’s boss Saylor has shared a diagram with top stock and crypto market assets and the performance they have displayed so far in 2025. The list includes its majesty Bitcoin, Tesla (NASDAQ: ), Strategy, Apple (NASDAQ: ), Meta (NASDAQ: ), Nvidia (NASDAQ: ), gold, Microsoft (NASDAQ: ), Amazon (NASDAQ: ) and a few others. Saylor’s Strategy (MSTR) has outperformed them all so far with 249% growth and a huge gap between it and the rest of the stocks/commodities. The first after MSTR comes Bitcoin with 64% growth. It is followed by Tesla (60%), gold (40%) and Meta (35%). Nvidia has shown a spike of 33%, followed by Apple (19%). S&P 500, Microsoft and Amazon come close to the very end of the list — 12%, 9% and 3% up. Alphabet (NASDAQ: ) Inc Class C (Google’s parent company), GOOG, has so far dropped 2% this year. According to a slightly earlier tweet of Saylor, since Strategy adopted the Bitcoin standard in August 2020, MSTR has seen staggering 3,000% growth. Gold set two new all-time highs last month, reaching $3,500 after the second massive surge. The first April price peak was slightly above the $3,100 level. Saylor issues Bitcoin buy call Earlier on Friday, Michael Saylor issued a tweet, urging the community not to be discouraged by Bitcoin price volatility and to continue accumulating the world’s leading digital currency. “Always ₿e Stacking,” he tweeted, spelling the “B” with four vertical strokes — the B transformed this way symbolizes Bitcoin. To set an example, Strategy has been stacking Bitcoin continuously since August 2020. The most recent BTC purchase made by the company sent ripples through the cryptocurrency market. On Monday, Saylor announced that his company had made a gargantuan acquisition of 15,355 BTC worth $1.42 billion. Besides, according to the Q1, 2025 results published this week, it plans to raise a mind-boggling $42 billion through equities to accumulate even more Bitcoin than it holds now — 553,555 BTC. This article was originally published on U.Today",
         "https://www.investing.com/news/cryptocurrency-news/strategys-saylor-reveals-asset-that-leaves-bitcoin-in-dust-this-year-4020964",
         "0.0",
         "0.911",
         "0.089",
         "0.9806",
         "2025-05-03 03:02:00"
        ],
        [
         "0",
         "AMZN",
         "Can Tesla help the U.S. catch up to China in the robot race? By Investing.com",
         "Investing.com -- Tesla (NASDAQ: ) could play a major role in helping the U.S. catch up to China in the race to develop autonomous machines, a contest Morgan Stanley frames as one of geopolitical and national security importance. In a new report, the bank says that China currently holds a significant lead in the field of “embodied AI” — including autonomous vehicles, drones, and humanoid robots — driven largely by superior capabilities in hardware manufacturing. “China makes more drones in a day than the U.S. makes in a year,” Morgan Stanley analysts wrote, noting that AI is radically improving efficiency. With AI, a single operator could control 100 drones, forming a swarm of autonomous systems with potential defense and industrial implications. While the U.S. government is beginning to recognize the urgency, policy gaps remain. Transportation Secretary Sean Duffy recently stressed that “America is in the middle of an innovation race with China and the stakes couldn’t be higher,” calling for unified national standards for autonomous vehicles to replace the current patchwork of state-level regulations. Morgan Stanley sees Tesla as the best-positioned U.S. company to lead this charge. The Wall Street giant highlights Tesla’s competitive edge across six pillars — Data, Robotics, Energy, AI, Manufacturing, and Space — dubbed the company’s “DREAMS.” According to the note, Tesla has “7 million cars on the road today” and is building toward over 100 million by 2035, while also leading in in-house robotics and battery tech. But manufacturing may be Tesla’s most important advantage. Elon Musk considers it the core of the company’s moat, the analysts said. “You need to make the probes, to collect the data to improve the probes to collect more data to improve the probes… you get the idea,” Morgan Stanley analysts led by Adam Jonas said in the report. Tesla’s vehicles serve not just as products, but as platforms to develop and refine AI systems for broader applications. “The car is to Tesla what the book was to Amazon (NASDAQ: ),” Jonas continued. Tesla’s planned launch of unsupervised autonomous vehicles in Austin by the end of June could serve as a major milestone. Unlike California, Texas regulations appear more accommodating for such deployments. As the U.S. seeks to reawaken its “Apollo spirit” and close the innovation gap, the report concludes with a pointed message: “If Tesla doesn’t help narrow the gap, who will?”",
         "https://www.investing.com/news/stock-market-news/can-tesla-help-the-us-catch-up-to-china-in-the-robot-race-4007671",
         "0.004",
         "0.887",
         "0.109",
         "0.9865",
         "2025-05-03 08:27:00"
        ]
       ],
       "shape": {
        "columns": 9,
        "rows": 5
       }
      },
      "text/html": [
       "<div>\n",
       "<style scoped>\n",
       "    .dataframe tbody tr th:only-of-type {\n",
       "        vertical-align: middle;\n",
       "    }\n",
       "\n",
       "    .dataframe tbody tr th {\n",
       "        vertical-align: top;\n",
       "    }\n",
       "\n",
       "    .dataframe thead th {\n",
       "        text-align: right;\n",
       "    }\n",
       "</style>\n",
       "<table border=\"1\" class=\"dataframe\">\n",
       "  <thead>\n",
       "    <tr style=\"text-align: right;\">\n",
       "      <th></th>\n",
       "      <th>ticker</th>\n",
       "      <th>title</th>\n",
       "      <th>body_text</th>\n",
       "      <th>url</th>\n",
       "      <th>neg</th>\n",
       "      <th>neu</th>\n",
       "      <th>pos</th>\n",
       "      <th>compound</th>\n",
       "      <th>publish_datetime</th>\n",
       "    </tr>\n",
       "  </thead>\n",
       "  <tbody>\n",
       "    <tr>\n",
       "      <th>4</th>\n",
       "      <td>AMZN</td>\n",
       "      <td>DA Davidson maintains Amazon stock Buy rating,...</td>\n",
       "      <td>On Friday, DA Davidson affirmed its commitment...</td>\n",
       "      <td>https://www.investing.com/news/analyst-ratings...</td>\n",
       "      <td>0.033</td>\n",
       "      <td>0.818</td>\n",
       "      <td>0.148</td>\n",
       "      <td>0.9942</td>\n",
       "      <td>2025-05-02 12:51:00</td>\n",
       "    </tr>\n",
       "    <tr>\n",
       "      <th>3</th>\n",
       "      <td>AMZN</td>\n",
       "      <td>At least two dead after Peru navy vessel hits ...</td>\n",
       "      <td>LIMA (Reuters) -A Peruvian navy vessel collide...</td>\n",
       "      <td>https://www.investing.com/news/stock-market-ne...</td>\n",
       "      <td>0.150</td>\n",
       "      <td>0.762</td>\n",
       "      <td>0.089</td>\n",
       "      <td>-0.8655</td>\n",
       "      <td>2025-05-02 13:14:00</td>\n",
       "    </tr>\n",
       "    <tr>\n",
       "      <th>2</th>\n",
       "      <td>AMZN</td>\n",
       "      <td>Apple partnering with startup Anthropic on AI-...</td>\n",
       "      <td>(Reuters) -Apple is partnering with Amazon-bac...</td>\n",
       "      <td>https://www.investing.com/news/stock-market-ne...</td>\n",
       "      <td>0.013</td>\n",
       "      <td>0.906</td>\n",
       "      <td>0.081</td>\n",
       "      <td>0.9450</td>\n",
       "      <td>2025-05-02 15:02:00</td>\n",
       "    </tr>\n",
       "    <tr>\n",
       "      <th>1</th>\n",
       "      <td>AMZN</td>\n",
       "      <td>Strategy’s Saylor Reveals Asset That Leaves Bi...</td>\n",
       "      <td>U.Today - Michael Saylor, a bull and co-founde...</td>\n",
       "      <td>https://www.investing.com/news/cryptocurrency-...</td>\n",
       "      <td>0.000</td>\n",
       "      <td>0.911</td>\n",
       "      <td>0.089</td>\n",
       "      <td>0.9806</td>\n",
       "      <td>2025-05-03 03:02:00</td>\n",
       "    </tr>\n",
       "    <tr>\n",
       "      <th>0</th>\n",
       "      <td>AMZN</td>\n",
       "      <td>Can Tesla help the U.S. catch up to China in t...</td>\n",
       "      <td>Investing.com -- Tesla (NASDAQ: ) could play a...</td>\n",
       "      <td>https://www.investing.com/news/stock-market-ne...</td>\n",
       "      <td>0.004</td>\n",
       "      <td>0.887</td>\n",
       "      <td>0.109</td>\n",
       "      <td>0.9865</td>\n",
       "      <td>2025-05-03 08:27:00</td>\n",
       "    </tr>\n",
       "  </tbody>\n",
       "</table>\n",
       "</div>"
      ],
      "text/plain": [
       "  ticker                                              title  \\\n",
       "4   AMZN  DA Davidson maintains Amazon stock Buy rating,...   \n",
       "3   AMZN  At least two dead after Peru navy vessel hits ...   \n",
       "2   AMZN  Apple partnering with startup Anthropic on AI-...   \n",
       "1   AMZN  Strategy’s Saylor Reveals Asset That Leaves Bi...   \n",
       "0   AMZN  Can Tesla help the U.S. catch up to China in t...   \n",
       "\n",
       "                                           body_text  \\\n",
       "4  On Friday, DA Davidson affirmed its commitment...   \n",
       "3  LIMA (Reuters) -A Peruvian navy vessel collide...   \n",
       "2  (Reuters) -Apple is partnering with Amazon-bac...   \n",
       "1  U.Today - Michael Saylor, a bull and co-founde...   \n",
       "0  Investing.com -- Tesla (NASDAQ: ) could play a...   \n",
       "\n",
       "                                                 url    neg    neu    pos  \\\n",
       "4  https://www.investing.com/news/analyst-ratings...  0.033  0.818  0.148   \n",
       "3  https://www.investing.com/news/stock-market-ne...  0.150  0.762  0.089   \n",
       "2  https://www.investing.com/news/stock-market-ne...  0.013  0.906  0.081   \n",
       "1  https://www.investing.com/news/cryptocurrency-...  0.000  0.911  0.089   \n",
       "0  https://www.investing.com/news/stock-market-ne...  0.004  0.887  0.109   \n",
       "\n",
       "   compound    publish_datetime  \n",
       "4    0.9942 2025-05-02 12:51:00  \n",
       "3   -0.8655 2025-05-02 13:14:00  \n",
       "2    0.9450 2025-05-02 15:02:00  \n",
       "1    0.9806 2025-05-03 03:02:00  \n",
       "0    0.9865 2025-05-03 08:27:00  "
      ]
     },
     "execution_count": 10,
     "metadata": {},
     "output_type": "execute_result"
    }
   ],
   "source": [
    "df.tail()"
   ]
  }
 ],
 "metadata": {
  "kernelspec": {
   "display_name": "base",
   "language": "python",
   "name": "python3"
  },
  "language_info": {
   "codemirror_mode": {
    "name": "ipython",
    "version": 3
   },
   "file_extension": ".py",
   "mimetype": "text/x-python",
   "name": "python",
   "nbconvert_exporter": "python",
   "pygments_lexer": "ipython3",
   "version": "3.11.10"
  }
 },
 "nbformat": 4,
 "nbformat_minor": 5
}
