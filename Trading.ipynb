{
 "cells": [
  {
   "cell_type": "code",
   "execution_count": 171,
   "metadata": {},
   "outputs": [],
   "source": [
    "import pandas as pd\n",
    "import numpy as np\n",
    "import matplotlib.pyplot as plt\n",
    "import seaborn as sns"
   ]
  },
  {
   "cell_type": "code",
   "execution_count": 172,
   "metadata": {},
   "outputs": [
    {
     "data": {
      "application/vnd.microsoft.datawrangler.viewer.v0+json": {
       "columns": [
        {
         "name": "index",
         "rawType": "int64",
         "type": "integer"
        },
        {
         "name": "Unnamed: 0",
         "rawType": "int64",
         "type": "integer"
        },
        {
         "name": "text",
         "rawType": "object",
         "type": "string"
        },
        {
         "name": "timestamp",
         "rawType": "object",
         "type": "string"
        },
        {
         "name": "source",
         "rawType": "object",
         "type": "string"
        },
        {
         "name": "symbols",
         "rawType": "object",
         "type": "string"
        },
        {
         "name": "company_names",
         "rawType": "object",
         "type": "string"
        },
        {
         "name": "Sentiment",
         "rawType": "int64",
         "type": "integer"
        }
       ],
       "conversionMethod": "pd.DataFrame",
       "ref": "6ae53f92-2fca-42b1-9172-5d0fe944495e",
       "rows": [
        [
         "0",
         "0",
         "VIDEO: “I was in my office. I was minding my own business...” –David Solomon tells $GS interns how he learned he wa… https://t.co/QClAITywXV",
         "Wed Jul 18 21:33:26 +0000 2018",
         "GoldmanSachs",
         "GS",
         "The Goldman Sachs",
         "0"
        ],
        [
         "1",
         "1",
         "The price of lumber $LB_F is down 22% since hitting its YTD highs. The Macy's $M turnaround is still happening.… https://t.co/XnKsV4De39",
         "Wed Jul 18 22:22:47 +0000 2018",
         "StockTwits",
         "M",
         "Macy's",
         "0"
        ],
        [
         "2",
         "2",
         "Who says the American Dream is dead? https://t.co/CRgx19x7sA",
         "Wed Jul 18 22:32:01 +0000 2018",
         "TheStreet",
         "AIG",
         "American",
         "-1"
        ],
        [
         "3",
         "3",
         "Barry Silbert is extremely optimistic on bitcoin -- but predicts that 99% of new crypto entrants are “going to zero… https://t.co/mGMVo2cZgY",
         "Wed Jul 18 22:52:52 +0000 2018",
         "MarketWatch",
         "BTC",
         "Bitcoin",
         "1"
        ],
        [
         "4",
         "4",
         "How satellites avoid attacks and space junk while circling the Earth https://t.co/aHzIV3Lqp5 #paid @Oracle https://t.co/kacpqZWiDJ",
         "Wed Jul 18 23:00:01 +0000 2018",
         "Forbes",
         "ORCL",
         "Oracle",
         "-1"
        ]
       ],
       "shape": {
        "columns": 7,
        "rows": 5
       }
      },
      "text/html": [
       "<div>\n",
       "<style scoped>\n",
       "    .dataframe tbody tr th:only-of-type {\n",
       "        vertical-align: middle;\n",
       "    }\n",
       "\n",
       "    .dataframe tbody tr th {\n",
       "        vertical-align: top;\n",
       "    }\n",
       "\n",
       "    .dataframe thead th {\n",
       "        text-align: right;\n",
       "    }\n",
       "</style>\n",
       "<table border=\"1\" class=\"dataframe\">\n",
       "  <thead>\n",
       "    <tr style=\"text-align: right;\">\n",
       "      <th></th>\n",
       "      <th>Unnamed: 0</th>\n",
       "      <th>text</th>\n",
       "      <th>timestamp</th>\n",
       "      <th>source</th>\n",
       "      <th>symbols</th>\n",
       "      <th>company_names</th>\n",
       "      <th>Sentiment</th>\n",
       "    </tr>\n",
       "  </thead>\n",
       "  <tbody>\n",
       "    <tr>\n",
       "      <th>0</th>\n",
       "      <td>0</td>\n",
       "      <td>VIDEO: “I was in my office. I was minding my o...</td>\n",
       "      <td>Wed Jul 18 21:33:26 +0000 2018</td>\n",
       "      <td>GoldmanSachs</td>\n",
       "      <td>GS</td>\n",
       "      <td>The Goldman Sachs</td>\n",
       "      <td>0</td>\n",
       "    </tr>\n",
       "    <tr>\n",
       "      <th>1</th>\n",
       "      <td>1</td>\n",
       "      <td>The price of lumber $LB_F is down 22% since hi...</td>\n",
       "      <td>Wed Jul 18 22:22:47 +0000 2018</td>\n",
       "      <td>StockTwits</td>\n",
       "      <td>M</td>\n",
       "      <td>Macy's</td>\n",
       "      <td>0</td>\n",
       "    </tr>\n",
       "    <tr>\n",
       "      <th>2</th>\n",
       "      <td>2</td>\n",
       "      <td>Who says the American Dream is dead? https://t...</td>\n",
       "      <td>Wed Jul 18 22:32:01 +0000 2018</td>\n",
       "      <td>TheStreet</td>\n",
       "      <td>AIG</td>\n",
       "      <td>American</td>\n",
       "      <td>-1</td>\n",
       "    </tr>\n",
       "    <tr>\n",
       "      <th>3</th>\n",
       "      <td>3</td>\n",
       "      <td>Barry Silbert is extremely optimistic on bitco...</td>\n",
       "      <td>Wed Jul 18 22:52:52 +0000 2018</td>\n",
       "      <td>MarketWatch</td>\n",
       "      <td>BTC</td>\n",
       "      <td>Bitcoin</td>\n",
       "      <td>1</td>\n",
       "    </tr>\n",
       "    <tr>\n",
       "      <th>4</th>\n",
       "      <td>4</td>\n",
       "      <td>How satellites avoid attacks and space junk wh...</td>\n",
       "      <td>Wed Jul 18 23:00:01 +0000 2018</td>\n",
       "      <td>Forbes</td>\n",
       "      <td>ORCL</td>\n",
       "      <td>Oracle</td>\n",
       "      <td>-1</td>\n",
       "    </tr>\n",
       "  </tbody>\n",
       "</table>\n",
       "</div>"
      ],
      "text/plain": [
       "   Unnamed: 0                                               text  \\\n",
       "0           0  VIDEO: “I was in my office. I was minding my o...   \n",
       "1           1  The price of lumber $LB_F is down 22% since hi...   \n",
       "2           2  Who says the American Dream is dead? https://t...   \n",
       "3           3  Barry Silbert is extremely optimistic on bitco...   \n",
       "4           4  How satellites avoid attacks and space junk wh...   \n",
       "\n",
       "                        timestamp        source symbols      company_names  \\\n",
       "0  Wed Jul 18 21:33:26 +0000 2018  GoldmanSachs      GS  The Goldman Sachs   \n",
       "1  Wed Jul 18 22:22:47 +0000 2018    StockTwits       M             Macy's   \n",
       "2  Wed Jul 18 22:32:01 +0000 2018     TheStreet     AIG           American   \n",
       "3  Wed Jul 18 22:52:52 +0000 2018   MarketWatch     BTC            Bitcoin   \n",
       "4  Wed Jul 18 23:00:01 +0000 2018        Forbes    ORCL             Oracle   \n",
       "\n",
       "   Sentiment  \n",
       "0          0  \n",
       "1          0  \n",
       "2         -1  \n",
       "3          1  \n",
       "4         -1  "
      ]
     },
     "execution_count": 172,
     "metadata": {},
     "output_type": "execute_result"
    }
   ],
   "source": [
    "data=pd.read_csv('stock_tweet_sentiment.csv')\n",
    "data.head()"
   ]
  },
  {
   "cell_type": "code",
   "execution_count": 173,
   "metadata": {},
   "outputs": [
    {
     "data": {
      "application/vnd.microsoft.datawrangler.viewer.v0+json": {
       "columns": [
        {
         "name": "index",
         "rawType": "int64",
         "type": "integer"
        },
        {
         "name": "text",
         "rawType": "object",
         "type": "string"
        },
        {
         "name": "timestamp",
         "rawType": "object",
         "type": "string"
        },
        {
         "name": "Sentiment",
         "rawType": "int64",
         "type": "integer"
        }
       ],
       "conversionMethod": "pd.DataFrame",
       "ref": "5194b3e5-23bd-4f6d-a002-2c15a2a67c52",
       "rows": [
        [
         "0",
         "VIDEO: “I was in my office. I was minding my own business...” –David Solomon tells $GS interns how he learned he wa… https://t.co/QClAITywXV",
         "Wed Jul 18 21:33:26 +0000 2018",
         "0"
        ],
        [
         "1",
         "The price of lumber $LB_F is down 22% since hitting its YTD highs. The Macy's $M turnaround is still happening.… https://t.co/XnKsV4De39",
         "Wed Jul 18 22:22:47 +0000 2018",
         "0"
        ],
        [
         "2",
         "Who says the American Dream is dead? https://t.co/CRgx19x7sA",
         "Wed Jul 18 22:32:01 +0000 2018",
         "-1"
        ],
        [
         "3",
         "Barry Silbert is extremely optimistic on bitcoin -- but predicts that 99% of new crypto entrants are “going to zero… https://t.co/mGMVo2cZgY",
         "Wed Jul 18 22:52:52 +0000 2018",
         "1"
        ],
        [
         "4",
         "How satellites avoid attacks and space junk while circling the Earth https://t.co/aHzIV3Lqp5 #paid @Oracle https://t.co/kacpqZWiDJ",
         "Wed Jul 18 23:00:01 +0000 2018",
         "-1"
        ]
       ],
       "shape": {
        "columns": 3,
        "rows": 5
       }
      },
      "text/html": [
       "<div>\n",
       "<style scoped>\n",
       "    .dataframe tbody tr th:only-of-type {\n",
       "        vertical-align: middle;\n",
       "    }\n",
       "\n",
       "    .dataframe tbody tr th {\n",
       "        vertical-align: top;\n",
       "    }\n",
       "\n",
       "    .dataframe thead th {\n",
       "        text-align: right;\n",
       "    }\n",
       "</style>\n",
       "<table border=\"1\" class=\"dataframe\">\n",
       "  <thead>\n",
       "    <tr style=\"text-align: right;\">\n",
       "      <th></th>\n",
       "      <th>text</th>\n",
       "      <th>timestamp</th>\n",
       "      <th>Sentiment</th>\n",
       "    </tr>\n",
       "  </thead>\n",
       "  <tbody>\n",
       "    <tr>\n",
       "      <th>0</th>\n",
       "      <td>VIDEO: “I was in my office. I was minding my o...</td>\n",
       "      <td>Wed Jul 18 21:33:26 +0000 2018</td>\n",
       "      <td>0</td>\n",
       "    </tr>\n",
       "    <tr>\n",
       "      <th>1</th>\n",
       "      <td>The price of lumber $LB_F is down 22% since hi...</td>\n",
       "      <td>Wed Jul 18 22:22:47 +0000 2018</td>\n",
       "      <td>0</td>\n",
       "    </tr>\n",
       "    <tr>\n",
       "      <th>2</th>\n",
       "      <td>Who says the American Dream is dead? https://t...</td>\n",
       "      <td>Wed Jul 18 22:32:01 +0000 2018</td>\n",
       "      <td>-1</td>\n",
       "    </tr>\n",
       "    <tr>\n",
       "      <th>3</th>\n",
       "      <td>Barry Silbert is extremely optimistic on bitco...</td>\n",
       "      <td>Wed Jul 18 22:52:52 +0000 2018</td>\n",
       "      <td>1</td>\n",
       "    </tr>\n",
       "    <tr>\n",
       "      <th>4</th>\n",
       "      <td>How satellites avoid attacks and space junk wh...</td>\n",
       "      <td>Wed Jul 18 23:00:01 +0000 2018</td>\n",
       "      <td>-1</td>\n",
       "    </tr>\n",
       "  </tbody>\n",
       "</table>\n",
       "</div>"
      ],
      "text/plain": [
       "                                                text  \\\n",
       "0  VIDEO: “I was in my office. I was minding my o...   \n",
       "1  The price of lumber $LB_F is down 22% since hi...   \n",
       "2  Who says the American Dream is dead? https://t...   \n",
       "3  Barry Silbert is extremely optimistic on bitco...   \n",
       "4  How satellites avoid attacks and space junk wh...   \n",
       "\n",
       "                        timestamp  Sentiment  \n",
       "0  Wed Jul 18 21:33:26 +0000 2018          0  \n",
       "1  Wed Jul 18 22:22:47 +0000 2018          0  \n",
       "2  Wed Jul 18 22:32:01 +0000 2018         -1  \n",
       "3  Wed Jul 18 22:52:52 +0000 2018          1  \n",
       "4  Wed Jul 18 23:00:01 +0000 2018         -1  "
      ]
     },
     "execution_count": 173,
     "metadata": {},
     "output_type": "execute_result"
    }
   ],
   "source": [
    "data.dropna(inplace=True)\n",
    "data=data[['text','timestamp','Sentiment']]\n",
    "data.head()"
   ]
  },
  {
   "cell_type": "code",
   "execution_count": 174,
   "metadata": {},
   "outputs": [
    {
     "name": "stderr",
     "output_type": "stream",
     "text": [
      "/var/folders/yj/rkl37k7n6p5dqb0m36pxlx6h0000gn/T/ipykernel_64426/3717208275.py:1: UserWarning: Could not infer format, so each element will be parsed individually, falling back to `dateutil`. To ensure parsing is consistent and as-expected, please specify a format.\n",
      "  data['date']=pd.to_datetime(data['timestamp'])\n"
     ]
    },
    {
     "data": {
      "application/vnd.microsoft.datawrangler.viewer.v0+json": {
       "columns": [
        {
         "name": "index",
         "rawType": "int64",
         "type": "integer"
        },
        {
         "name": "text",
         "rawType": "object",
         "type": "string"
        },
        {
         "name": "Sentiment",
         "rawType": "int64",
         "type": "integer"
        },
        {
         "name": "date",
         "rawType": "object",
         "type": "unknown"
        }
       ],
       "conversionMethod": "pd.DataFrame",
       "ref": "b42302ae-690c-4130-8685-535779b24a52",
       "rows": [
        [
         "26",
         "New time: Janet Yellen and I in conversation at Brookings on Feb. 27 at 2 PM EST. Join us online or on Facebook Liv… https://t.co/hDg7X5Rc5P",
         "1",
         "2018-02-23"
        ],
        [
         "30",
         "$INFO $C Asia Stocks Signal Gains; Dollar Weakness Watched: Markets Wrap via https://t.co/jURZDymPXI",
         "0",
         "2018-07-08"
        ],
        [
         "31",
         "RT @dailypoliticaln: Fluor Co. $NEW $FLR Stock Rating Upgraded by Zacks Investment Research https://t.co/bpNgSoZjMH",
         "0",
         "2018-07-08"
        ],
        [
         "34",
         "EPS for Avery Dennison Corporation $AVY Expected At $1.56 https://t.co/JgH1US4tJT",
         "0",
         "2018-07-08"
        ],
        [
         "29",
         "Arthur J Gallagher &amp; Co $AJG vs. Marsh &amp; McLennan Companies $MMC Critical Contrast https://t.co/CDjCvAKg5D",
         "-1",
         "2018-07-08"
        ]
       ],
       "shape": {
        "columns": 3,
        "rows": 5
       }
      },
      "text/html": [
       "<div>\n",
       "<style scoped>\n",
       "    .dataframe tbody tr th:only-of-type {\n",
       "        vertical-align: middle;\n",
       "    }\n",
       "\n",
       "    .dataframe tbody tr th {\n",
       "        vertical-align: top;\n",
       "    }\n",
       "\n",
       "    .dataframe thead th {\n",
       "        text-align: right;\n",
       "    }\n",
       "</style>\n",
       "<table border=\"1\" class=\"dataframe\">\n",
       "  <thead>\n",
       "    <tr style=\"text-align: right;\">\n",
       "      <th></th>\n",
       "      <th>text</th>\n",
       "      <th>Sentiment</th>\n",
       "      <th>date</th>\n",
       "    </tr>\n",
       "  </thead>\n",
       "  <tbody>\n",
       "    <tr>\n",
       "      <th>26</th>\n",
       "      <td>New time: Janet Yellen and I in conversation a...</td>\n",
       "      <td>1</td>\n",
       "      <td>2018-02-23</td>\n",
       "    </tr>\n",
       "    <tr>\n",
       "      <th>30</th>\n",
       "      <td>$INFO $C Asia Stocks Signal Gains; Dollar Weak...</td>\n",
       "      <td>0</td>\n",
       "      <td>2018-07-08</td>\n",
       "    </tr>\n",
       "    <tr>\n",
       "      <th>31</th>\n",
       "      <td>RT @dailypoliticaln: Fluor Co. $NEW $FLR Stock...</td>\n",
       "      <td>0</td>\n",
       "      <td>2018-07-08</td>\n",
       "    </tr>\n",
       "    <tr>\n",
       "      <th>34</th>\n",
       "      <td>EPS for Avery Dennison Corporation $AVY Expect...</td>\n",
       "      <td>0</td>\n",
       "      <td>2018-07-08</td>\n",
       "    </tr>\n",
       "    <tr>\n",
       "      <th>29</th>\n",
       "      <td>Arthur J Gallagher &amp;amp; Co $AJG vs. Marsh &amp;am...</td>\n",
       "      <td>-1</td>\n",
       "      <td>2018-07-08</td>\n",
       "    </tr>\n",
       "  </tbody>\n",
       "</table>\n",
       "</div>"
      ],
      "text/plain": [
       "                                                 text  Sentiment        date\n",
       "26  New time: Janet Yellen and I in conversation a...          1  2018-02-23\n",
       "30  $INFO $C Asia Stocks Signal Gains; Dollar Weak...          0  2018-07-08\n",
       "31  RT @dailypoliticaln: Fluor Co. $NEW $FLR Stock...          0  2018-07-08\n",
       "34  EPS for Avery Dennison Corporation $AVY Expect...          0  2018-07-08\n",
       "29  Arthur J Gallagher &amp; Co $AJG vs. Marsh &am...         -1  2018-07-08"
      ]
     },
     "execution_count": 174,
     "metadata": {},
     "output_type": "execute_result"
    }
   ],
   "source": [
    "data['date']=pd.to_datetime(data['timestamp'])\n",
    "data['date']=data['date'].dt.date\n",
    "data.drop('timestamp',axis=1,inplace=True)\n",
    "data.sort_values('date',inplace=True)\n",
    "data.head()"
   ]
  },
  {
   "cell_type": "code",
   "execution_count": 175,
   "metadata": {},
   "outputs": [
    {
     "data": {
      "text/plain": [
       "(28435, 3)"
      ]
     },
     "execution_count": 175,
     "metadata": {},
     "output_type": "execute_result"
    }
   ],
   "source": [
    "data.shape"
   ]
  },
  {
   "cell_type": "code",
   "execution_count": 176,
   "metadata": {},
   "outputs": [
    {
     "data": {
      "text/plain": [
       "date        Sentiment\n",
       "2018-07-08   0             13\n",
       "            -1              5\n",
       "             1              2\n",
       "2018-07-09   0            416\n",
       "             1            175\n",
       "            -1             66\n",
       "2018-07-10   0            584\n",
       "             1            278\n",
       "            -1             59\n",
       "2018-07-11   0            590\n",
       "             1            304\n",
       "            -1            116\n",
       "2018-07-12   0           1009\n",
       "             1            424\n",
       "            -1            138\n",
       "2018-07-13   0            900\n",
       "             1            436\n",
       "            -1            121\n",
       "2018-07-14   0            670\n",
       "             1            280\n",
       "            -1            121\n",
       "2018-07-15   0           1403\n",
       "             1            456\n",
       "            -1            225\n",
       "2018-07-16   0           2053\n",
       "             1            860\n",
       "            -1            332\n",
       "2018-07-17   0           3076\n",
       "             1           1553\n",
       "            -1            447\n",
       "2018-07-18   0           6608\n",
       "             1           3739\n",
       "            -1            967\n",
       "2018-07-19   0              5\n",
       "             1              2\n",
       "            -1              1\n",
       "Name: count, dtype: int64"
      ]
     },
     "execution_count": 176,
     "metadata": {},
     "output_type": "execute_result"
    }
   ],
   "source": [
    "#count sentiment number by date\n",
    "data=data[1:]\n",
    "data.groupby('date')['Sentiment'].value_counts()"
   ]
  },
  {
   "cell_type": "code",
   "execution_count": 177,
   "metadata": {},
   "outputs": [
    {
     "name": "stderr",
     "output_type": "stream",
     "text": [
      "/var/folders/yj/rkl37k7n6p5dqb0m36pxlx6h0000gn/T/ipykernel_64426/3722614293.py:11: DeprecationWarning: DataFrameGroupBy.apply operated on the grouping columns. This behavior is deprecated, and in a future version of pandas the grouping columns will be excluded from the operation. Either pass `include_groups=False` to exclude the groupings or explicitly select the grouping columns after groupby to silence this warning.\n",
      "  data=data.groupby('date').apply(sentiment_per_day)\n"
     ]
    },
    {
     "data": {
      "application/vnd.microsoft.datawrangler.viewer.v0+json": {
       "columns": [
        {
         "name": "index",
         "rawType": "int64",
         "type": "integer"
        },
        {
         "name": "date",
         "rawType": "object",
         "type": "unknown"
        },
        {
         "name": "Sentiment",
         "rawType": "int64",
         "type": "integer"
        }
       ],
       "conversionMethod": "pd.DataFrame",
       "ref": "8a1d0112-9ae8-4935-872c-2e5874b06c16",
       "rows": [
        [
         "0",
         "2018-07-08",
         "0"
        ],
        [
         "1",
         "2018-07-09",
         "0"
        ],
        [
         "2",
         "2018-07-10",
         "1"
        ],
        [
         "3",
         "2018-07-11",
         "1"
        ],
        [
         "4",
         "2018-07-12",
         "0"
        ]
       ],
       "shape": {
        "columns": 2,
        "rows": 5
       }
      },
      "text/html": [
       "<div>\n",
       "<style scoped>\n",
       "    .dataframe tbody tr th:only-of-type {\n",
       "        vertical-align: middle;\n",
       "    }\n",
       "\n",
       "    .dataframe tbody tr th {\n",
       "        vertical-align: top;\n",
       "    }\n",
       "\n",
       "    .dataframe thead th {\n",
       "        text-align: right;\n",
       "    }\n",
       "</style>\n",
       "<table border=\"1\" class=\"dataframe\">\n",
       "  <thead>\n",
       "    <tr style=\"text-align: right;\">\n",
       "      <th></th>\n",
       "      <th>date</th>\n",
       "      <th>Sentiment</th>\n",
       "    </tr>\n",
       "  </thead>\n",
       "  <tbody>\n",
       "    <tr>\n",
       "      <th>0</th>\n",
       "      <td>2018-07-08</td>\n",
       "      <td>0</td>\n",
       "    </tr>\n",
       "    <tr>\n",
       "      <th>1</th>\n",
       "      <td>2018-07-09</td>\n",
       "      <td>0</td>\n",
       "    </tr>\n",
       "    <tr>\n",
       "      <th>2</th>\n",
       "      <td>2018-07-10</td>\n",
       "      <td>1</td>\n",
       "    </tr>\n",
       "    <tr>\n",
       "      <th>3</th>\n",
       "      <td>2018-07-11</td>\n",
       "      <td>1</td>\n",
       "    </tr>\n",
       "    <tr>\n",
       "      <th>4</th>\n",
       "      <td>2018-07-12</td>\n",
       "      <td>0</td>\n",
       "    </tr>\n",
       "  </tbody>\n",
       "</table>\n",
       "</div>"
      ],
      "text/plain": [
       "         date  Sentiment\n",
       "0  2018-07-08          0\n",
       "1  2018-07-09          0\n",
       "2  2018-07-10          1\n",
       "3  2018-07-11          1\n",
       "4  2018-07-12          0"
      ]
     },
     "execution_count": 177,
     "metadata": {},
     "output_type": "execute_result"
    }
   ],
   "source": [
    "#if sentiment 1 per day is more than 30% then sentiment per day is 1\n",
    "#if sentiment -1 per day is more than 30% then sentiment per day is -1\n",
    "#otherwise sentiment per day is 0\n",
    "def sentiment_per_day(df):\n",
    "    if df['Sentiment'].value_counts().get(1,0)/len(df)>0.3:\n",
    "        return 1\n",
    "    elif df['Sentiment'].value_counts().get(-1,0)/len(df)>0.3:\n",
    "        return -1\n",
    "    else:\n",
    "        return 0\n",
    "data=data.groupby('date').apply(sentiment_per_day)\n",
    "data=pd.DataFrame(data)\n",
    "data.reset_index(inplace=True)\n",
    "data.columns=['date','Sentiment']\n",
    "data.head()"
   ]
  },
  {
   "cell_type": "code",
   "execution_count": 178,
   "metadata": {},
   "outputs": [
    {
     "name": "stderr",
     "output_type": "stream",
     "text": [
      "[*********************100%***********************]  1 of 1 completed\n"
     ]
    },
    {
     "data": {
      "application/vnd.microsoft.datawrangler.viewer.v0+json": {
       "columns": [
        {
         "name": "index",
         "rawType": "int64",
         "type": "integer"
        },
        {
         "name": "Close",
         "rawType": "float64",
         "type": "float"
        },
        {
         "name": "date",
         "rawType": "object",
         "type": "unknown"
        }
       ],
       "conversionMethod": "pd.DataFrame",
       "ref": "8cd37546-eb63-4075-aa1a-0efda1c7443c",
       "rows": [
        [
         "0",
         "249.8000030517578",
         "2018-07-02"
        ],
        [
         "1",
         "248.7899932861328",
         "2018-07-03"
        ],
        [
         "2",
         "250.9199981689453",
         "2018-07-05"
        ],
        [
         "3",
         "253.00999450683594",
         "2018-07-06"
        ],
        [
         "4",
         "255.25",
         "2018-07-09"
        ]
       ],
       "shape": {
        "columns": 2,
        "rows": 5
       }
      },
      "text/html": [
       "<div>\n",
       "<style scoped>\n",
       "    .dataframe tbody tr th:only-of-type {\n",
       "        vertical-align: middle;\n",
       "    }\n",
       "\n",
       "    .dataframe tbody tr th {\n",
       "        vertical-align: top;\n",
       "    }\n",
       "\n",
       "    .dataframe thead th {\n",
       "        text-align: right;\n",
       "    }\n",
       "</style>\n",
       "<table border=\"1\" class=\"dataframe\">\n",
       "  <thead>\n",
       "    <tr style=\"text-align: right;\">\n",
       "      <th></th>\n",
       "      <th>Close</th>\n",
       "      <th>date</th>\n",
       "    </tr>\n",
       "  </thead>\n",
       "  <tbody>\n",
       "    <tr>\n",
       "      <th>0</th>\n",
       "      <td>249.800003</td>\n",
       "      <td>2018-07-02</td>\n",
       "    </tr>\n",
       "    <tr>\n",
       "      <th>1</th>\n",
       "      <td>248.789993</td>\n",
       "      <td>2018-07-03</td>\n",
       "    </tr>\n",
       "    <tr>\n",
       "      <th>2</th>\n",
       "      <td>250.919998</td>\n",
       "      <td>2018-07-05</td>\n",
       "    </tr>\n",
       "    <tr>\n",
       "      <th>3</th>\n",
       "      <td>253.009995</td>\n",
       "      <td>2018-07-06</td>\n",
       "    </tr>\n",
       "    <tr>\n",
       "      <th>4</th>\n",
       "      <td>255.250000</td>\n",
       "      <td>2018-07-09</td>\n",
       "    </tr>\n",
       "  </tbody>\n",
       "</table>\n",
       "</div>"
      ],
      "text/plain": [
       "        Close        date\n",
       "0  249.800003  2018-07-02\n",
       "1  248.789993  2018-07-03\n",
       "2  250.919998  2018-07-05\n",
       "3  253.009995  2018-07-06\n",
       "4  255.250000  2018-07-09"
      ]
     },
     "execution_count": 178,
     "metadata": {},
     "output_type": "execute_result"
    }
   ],
   "source": [
    "import yfinance as yf\n",
    "voo = yf.download(\"VOO\", start=\"2018-07-01\", end=\"2018-10-01\",auto_adjust=False,multi_level_index=False)\n",
    "voo = voo[['Close']].reset_index()\n",
    "voo['date']=voo['Date'].dt.date\n",
    "voo.drop('Date',axis=1,inplace=True)\n",
    "voo.head()"
   ]
  },
  {
   "cell_type": "code",
   "execution_count": 179,
   "metadata": {},
   "outputs": [],
   "source": [
    "df = pd.merge(voo, data, on='date', how='left')\n",
    "df.dropna(inplace=True)"
   ]
  },
  {
   "cell_type": "code",
   "execution_count": 180,
   "metadata": {},
   "outputs": [
    {
     "data": {
      "application/vnd.microsoft.datawrangler.viewer.v0+json": {
       "columns": [
        {
         "name": "index",
         "rawType": "int64",
         "type": "integer"
        },
        {
         "name": "Close",
         "rawType": "float64",
         "type": "float"
        },
        {
         "name": "date",
         "rawType": "object",
         "type": "unknown"
        },
        {
         "name": "Sentiment",
         "rawType": "float64",
         "type": "float"
        }
       ],
       "conversionMethod": "pd.DataFrame",
       "ref": "2fce9262-3238-4e14-bd7b-ee4b9d9c00fd",
       "rows": [
        [
         "4",
         "255.25",
         "2018-07-09",
         "0.0"
        ],
        [
         "5",
         "256.1400146484375",
         "2018-07-10",
         "1.0"
        ],
        [
         "6",
         "254.38999938964844",
         "2018-07-11",
         "1.0"
        ],
        [
         "7",
         "256.57000732421875",
         "2018-07-12",
         "0.0"
        ],
        [
         "8",
         "256.7900085449219",
         "2018-07-13",
         "0.0"
        ],
        [
         "9",
         "256.6300048828125",
         "2018-07-16",
         "0.0"
        ],
        [
         "10",
         "257.7300109863281",
         "2018-07-17",
         "1.0"
        ],
        [
         "11",
         "258.20001220703125",
         "2018-07-18",
         "1.0"
        ],
        [
         "12",
         "257.2200012207031",
         "2018-07-19",
         "0.0"
        ]
       ],
       "shape": {
        "columns": 3,
        "rows": 9
       }
      },
      "text/html": [
       "<div>\n",
       "<style scoped>\n",
       "    .dataframe tbody tr th:only-of-type {\n",
       "        vertical-align: middle;\n",
       "    }\n",
       "\n",
       "    .dataframe tbody tr th {\n",
       "        vertical-align: top;\n",
       "    }\n",
       "\n",
       "    .dataframe thead th {\n",
       "        text-align: right;\n",
       "    }\n",
       "</style>\n",
       "<table border=\"1\" class=\"dataframe\">\n",
       "  <thead>\n",
       "    <tr style=\"text-align: right;\">\n",
       "      <th></th>\n",
       "      <th>Close</th>\n",
       "      <th>date</th>\n",
       "      <th>Sentiment</th>\n",
       "    </tr>\n",
       "  </thead>\n",
       "  <tbody>\n",
       "    <tr>\n",
       "      <th>4</th>\n",
       "      <td>255.250000</td>\n",
       "      <td>2018-07-09</td>\n",
       "      <td>0.0</td>\n",
       "    </tr>\n",
       "    <tr>\n",
       "      <th>5</th>\n",
       "      <td>256.140015</td>\n",
       "      <td>2018-07-10</td>\n",
       "      <td>1.0</td>\n",
       "    </tr>\n",
       "    <tr>\n",
       "      <th>6</th>\n",
       "      <td>254.389999</td>\n",
       "      <td>2018-07-11</td>\n",
       "      <td>1.0</td>\n",
       "    </tr>\n",
       "    <tr>\n",
       "      <th>7</th>\n",
       "      <td>256.570007</td>\n",
       "      <td>2018-07-12</td>\n",
       "      <td>0.0</td>\n",
       "    </tr>\n",
       "    <tr>\n",
       "      <th>8</th>\n",
       "      <td>256.790009</td>\n",
       "      <td>2018-07-13</td>\n",
       "      <td>0.0</td>\n",
       "    </tr>\n",
       "    <tr>\n",
       "      <th>9</th>\n",
       "      <td>256.630005</td>\n",
       "      <td>2018-07-16</td>\n",
       "      <td>0.0</td>\n",
       "    </tr>\n",
       "    <tr>\n",
       "      <th>10</th>\n",
       "      <td>257.730011</td>\n",
       "      <td>2018-07-17</td>\n",
       "      <td>1.0</td>\n",
       "    </tr>\n",
       "    <tr>\n",
       "      <th>11</th>\n",
       "      <td>258.200012</td>\n",
       "      <td>2018-07-18</td>\n",
       "      <td>1.0</td>\n",
       "    </tr>\n",
       "    <tr>\n",
       "      <th>12</th>\n",
       "      <td>257.220001</td>\n",
       "      <td>2018-07-19</td>\n",
       "      <td>0.0</td>\n",
       "    </tr>\n",
       "  </tbody>\n",
       "</table>\n",
       "</div>"
      ],
      "text/plain": [
       "         Close        date  Sentiment\n",
       "4   255.250000  2018-07-09        0.0\n",
       "5   256.140015  2018-07-10        1.0\n",
       "6   254.389999  2018-07-11        1.0\n",
       "7   256.570007  2018-07-12        0.0\n",
       "8   256.790009  2018-07-13        0.0\n",
       "9   256.630005  2018-07-16        0.0\n",
       "10  257.730011  2018-07-17        1.0\n",
       "11  258.200012  2018-07-18        1.0\n",
       "12  257.220001  2018-07-19        0.0"
      ]
     },
     "execution_count": 180,
     "metadata": {},
     "output_type": "execute_result"
    }
   ],
   "source": [
    "df"
   ]
  },
  {
   "cell_type": "code",
   "execution_count": 181,
   "metadata": {},
   "outputs": [
    {
     "data": {
      "text/plain": [
       "(9, 3)"
      ]
     },
     "execution_count": 181,
     "metadata": {},
     "output_type": "execute_result"
    }
   ],
   "source": [
    "df.shape"
   ]
  },
  {
   "cell_type": "code",
   "execution_count": 182,
   "metadata": {},
   "outputs": [],
   "source": [
    "initial_cash = 100000\n",
    "cash = initial_cash\n",
    "stock_units = 0\n",
    "shares=0\n",
    "portfolio_values = []"
   ]
  },
  {
   "cell_type": "code",
   "execution_count": 183,
   "metadata": {},
   "outputs": [],
   "source": [
    "# for index, row in df.iterrows():\n",
    "#     price = row[\"Close\"]\n",
    "#     sentiment = row[\"Sentiment\"]\n",
    "\n",
    "#     if sentiment == 1:\n",
    "#         # ซื้อหุ้นด้วยเงินทั้งหมด\n",
    "#         units_to_buy = cash // price\n",
    "#         cash -= units_to_buy * price\n",
    "#         stock_units += units_to_buy\n",
    "\n",
    "#     elif sentiment == -1:\n",
    "#         # ขายหุ้นทั้งหมด\n",
    "#         cash += stock_units * price\n",
    "#         stock_units = 0\n",
    "\n",
    "#     # คำนวณมูลค่าพอร์ตวันนี้\n",
    "#     portfolio_value = cash + (stock_units * price)\n",
    "#     portfolio_values.append(portfolio_value)"
   ]
  },
  {
   "cell_type": "code",
   "execution_count": 184,
   "metadata": {},
   "outputs": [],
   "source": [
    "for i in range(0, len(df), 3):\n",
    "    chunk = df.iloc[i:i+3]\n",
    "    sentiment_sum = chunk['Sentiment'].sum()\n",
    "    price = chunk.iloc[-1]['Close']\n",
    "\n",
    "    if sentiment_sum > 1:\n",
    "        # Buy signal: use all cash to buy shares\n",
    "        shares += cash // price\n",
    "        cash -= shares * price\n",
    "    elif sentiment_sum <= 0:\n",
    "        # Sell signal: sell all shares\n",
    "        cash += shares * price\n",
    "        shares = 0\n",
    "\n",
    "    # Track portfolio value for each day in the chunk\n",
    "    for j in range(i, min(i+3, len(df))):\n",
    "        portfolio_values.append(cash + shares * df.iloc[j]['Close'])"
   ]
  },
  {
   "cell_type": "code",
   "execution_count": 185,
   "metadata": {},
   "outputs": [],
   "source": [
    "while len(portfolio_values) < len(df):\n",
    "    portfolio_values.append(cash + shares * df.iloc[-1]['Close'])"
   ]
  },
  {
   "cell_type": "code",
   "execution_count": 186,
   "metadata": {},
   "outputs": [],
   "source": [
    "df['Portfolio_Value'] = portfolio_values"
   ]
  },
  {
   "cell_type": "code",
   "execution_count": 190,
   "metadata": {},
   "outputs": [
    {
     "data": {
      "image/png": "[encoded data removed]",
      "text/plain": [
       "<Figure size 640x480 with 1 Axes>"
      ]
     },
     "metadata": {},
     "output_type": "display_data"
    }
   ],
   "source": [
    "plt.plot(df['date'], df['Close'], label='VOO Close Price', color='blue')\n",
    "plt.show()"
   ]
  },
  {
   "cell_type": "code",
   "execution_count": 191,
   "metadata": {},
   "outputs": [
    {
     "data": {
      "image/png": "[encoded data removed]",
      "text/plain": [
       "<Figure size 1400x600 with 1 Axes>"
      ]
     },
     "metadata": {},
     "output_type": "display_data"
    }
   ],
   "source": [
    "plt.figure(figsize=(14,6))\n",
    "plt.plot(df['date'], df['Portfolio_Value'], label='Portfolio Value', color='green')\n",
    "plt.title('Portfolio Simulation (Sentiment-Based Strategy)')\n",
    "plt.xlabel('Date')\n",
    "plt.ylabel('Portfolio Value ($)')\n",
    "plt.grid()\n",
    "plt.legend()\n",
    "plt.tight_layout()\n",
    "plt.show()"
   ]
  },
  {
   "cell_type": "code",
   "execution_count": 188,
   "metadata": {},
   "outputs": [
    {
     "data": {
      "application/vnd.microsoft.datawrangler.viewer.v0+json": {
       "columns": [
        {
         "name": "index",
         "rawType": "int64",
         "type": "integer"
        },
        {
         "name": "date",
         "rawType": "object",
         "type": "unknown"
        },
        {
         "name": "Sentiment",
         "rawType": "float64",
         "type": "float"
        },
        {
         "name": "Close",
         "rawType": "float64",
         "type": "float"
        },
        {
         "name": "Portfolio_Value",
         "rawType": "float64",
         "type": "float"
        }
       ],
       "conversionMethod": "pd.DataFrame",
       "ref": "15a5a80f-b44a-48c6-82b7-b076f7d126c6",
       "rows": [
        [
         "4",
         "2018-07-09",
         "0.0",
         "255.25",
         "100337.98023986816"
        ],
        [
         "5",
         "2018-07-10",
         "1.0",
         "256.1400146484375",
         "100687.7559967041"
        ],
        [
         "6",
         "2018-07-11",
         "1.0",
         "254.38999938964844",
         "100000.0"
        ],
        [
         "7",
         "2018-07-12",
         "0.0",
         "256.57000732421875",
         "100880.32215881348"
        ],
        [
         "8",
         "2018-07-13",
         "0.0",
         "256.7900085449219",
         "100880.32215881348"
        ],
        [
         "9",
         "2018-07-16",
         "0.0",
         "256.6300048828125",
         "100880.32215881348"
        ],
        [
         "10",
         "2018-07-17",
         "1.0",
         "257.7300109863281",
         "101080.24598693848"
        ],
        [
         "11",
         "2018-07-18",
         "1.0",
         "258.20001220703125",
         "101264.4864654541"
        ],
        [
         "12",
         "2018-07-19",
         "0.0",
         "257.2200012207031",
         "100880.32215881348"
        ]
       ],
       "shape": {
        "columns": 4,
        "rows": 9
       }
      },
      "text/html": [
       "<div>\n",
       "<style scoped>\n",
       "    .dataframe tbody tr th:only-of-type {\n",
       "        vertical-align: middle;\n",
       "    }\n",
       "\n",
       "    .dataframe tbody tr th {\n",
       "        vertical-align: top;\n",
       "    }\n",
       "\n",
       "    .dataframe thead th {\n",
       "        text-align: right;\n",
       "    }\n",
       "</style>\n",
       "<table border=\"1\" class=\"dataframe\">\n",
       "  <thead>\n",
       "    <tr style=\"text-align: right;\">\n",
       "      <th></th>\n",
       "      <th>date</th>\n",
       "      <th>Sentiment</th>\n",
       "      <th>Close</th>\n",
       "      <th>Portfolio_Value</th>\n",
       "    </tr>\n",
       "  </thead>\n",
       "  <tbody>\n",
       "    <tr>\n",
       "      <th>4</th>\n",
       "      <td>2018-07-09</td>\n",
       "      <td>0.0</td>\n",
       "      <td>255.250000</td>\n",
       "      <td>100337.980240</td>\n",
       "    </tr>\n",
       "    <tr>\n",
       "      <th>5</th>\n",
       "      <td>2018-07-10</td>\n",
       "      <td>1.0</td>\n",
       "      <td>256.140015</td>\n",
       "      <td>100687.755997</td>\n",
       "    </tr>\n",
       "    <tr>\n",
       "      <th>6</th>\n",
       "      <td>2018-07-11</td>\n",
       "      <td>1.0</td>\n",
       "      <td>254.389999</td>\n",
       "      <td>100000.000000</td>\n",
       "    </tr>\n",
       "    <tr>\n",
       "      <th>7</th>\n",
       "      <td>2018-07-12</td>\n",
       "      <td>0.0</td>\n",
       "      <td>256.570007</td>\n",
       "      <td>100880.322159</td>\n",
       "    </tr>\n",
       "    <tr>\n",
       "      <th>8</th>\n",
       "      <td>2018-07-13</td>\n",
       "      <td>0.0</td>\n",
       "      <td>256.790009</td>\n",
       "      <td>100880.322159</td>\n",
       "    </tr>\n",
       "    <tr>\n",
       "      <th>9</th>\n",
       "      <td>2018-07-16</td>\n",
       "      <td>0.0</td>\n",
       "      <td>256.630005</td>\n",
       "      <td>100880.322159</td>\n",
       "    </tr>\n",
       "    <tr>\n",
       "      <th>10</th>\n",
       "      <td>2018-07-17</td>\n",
       "      <td>1.0</td>\n",
       "      <td>257.730011</td>\n",
       "      <td>101080.245987</td>\n",
       "    </tr>\n",
       "    <tr>\n",
       "      <th>11</th>\n",
       "      <td>2018-07-18</td>\n",
       "      <td>1.0</td>\n",
       "      <td>258.200012</td>\n",
       "      <td>101264.486465</td>\n",
       "    </tr>\n",
       "    <tr>\n",
       "      <th>12</th>\n",
       "      <td>2018-07-19</td>\n",
       "      <td>0.0</td>\n",
       "      <td>257.220001</td>\n",
       "      <td>100880.322159</td>\n",
       "    </tr>\n",
       "  </tbody>\n",
       "</table>\n",
       "</div>"
      ],
      "text/plain": [
       "          date  Sentiment       Close  Portfolio_Value\n",
       "4   2018-07-09        0.0  255.250000    100337.980240\n",
       "5   2018-07-10        1.0  256.140015    100687.755997\n",
       "6   2018-07-11        1.0  254.389999    100000.000000\n",
       "7   2018-07-12        0.0  256.570007    100880.322159\n",
       "8   2018-07-13        0.0  256.790009    100880.322159\n",
       "9   2018-07-16        0.0  256.630005    100880.322159\n",
       "10  2018-07-17        1.0  257.730011    101080.245987\n",
       "11  2018-07-18        1.0  258.200012    101264.486465\n",
       "12  2018-07-19        0.0  257.220001    100880.322159"
      ]
     },
     "execution_count": 188,
     "metadata": {},
     "output_type": "execute_result"
    }
   ],
   "source": [
    "df[[\"date\", \"Sentiment\", \"Close\", \"Portfolio_Value\"]]"
   ]
  },
  {
   "cell_type": "code",
   "execution_count": 189,
   "metadata": {},
   "outputs": [
    {
     "name": "stdout",
     "output_type": "stream",
     "text": [
      "Profit: 880.32\n",
      "Profit Percentage: 0.88%\n"
     ]
    }
   ],
   "source": [
    "profit = df.iloc[-1]['Portfolio_Value'] - initial_cash\n",
    "print(f\"Profit: {profit:.2f}\")\n",
    "print(f\"Profit Percentage: {profit / initial_cash * 100:.2f}%\")"
   ]
  }
 ],
 "metadata": {
  "kernelspec": {
   "display_name": "base",
   "language": "python",
   "name": "python3"
  },
  "language_info": {
   "codemirror_mode": {
    "name": "ipython",
    "version": 3
   },
   "file_extension": ".py",
   "mimetype": "text/x-python",
   "name": "python",
   "nbconvert_exporter": "python",
   "pygments_lexer": "ipython3",
   "version": "3.11.10"
  }
 },
 "nbformat": 4,
 "nbformat_minor": 2
}
