{
 "cells": [
  {
   "cell_type": "code",
   "execution_count": null,
   "id": "d5b4d83f",
   "metadata": {
    "vscode": {
     "languageId": "plaintext"
    }
   },
   "outputs": [],
   "source": [
    "import pandas as pd\n",
    "from transformers import pipeline\n",
    "from datetime import datetime\n",
    "\n",
    "df = pd.read_pickle('.pkl')\n",
    "df['date'] = pd.to_datetime(df['date'])"
   ]
  },
  {
   "cell_type": "code",
   "execution_count": null,
   "id": "f63a6819",
   "metadata": {
    "vscode": {
     "languageId": "plaintext"
    }
   },
   "outputs": [],
   "source": [
    "df"
   ]
  },
  {
   "cell_type": "code",
   "execution_count": null,
   "id": "8a0e83ac",
   "metadata": {
    "vscode": {
     "languageId": "plaintext"
    }
   },
   "outputs": [],
   "source": [
    "from transformers import AutoTokenizer, AutoModelForSequenceClassification, TextClassificationPipeline\n",
    "\n",
    "# Load model 1\n",
    "tokenizer1 = AutoTokenizer.from_pretrained(\"Photchara/stock_sentiment_Finbert_label\")\n",
    "model1_raw = AutoModelForSequenceClassification.from_pretrained(\"Photchara/stock_sentiment_Finbert_label\")\n",
    "model1 = TextClassificationPipeline(model=model1_raw, tokenizer=tokenizer1, truncation=True)"
   ]
  }
 ],
 "metadata": {
  "language_info": {
   "name": "python"
  }
 },
 "nbformat": 4,
 "nbformat_minor": 5
}
